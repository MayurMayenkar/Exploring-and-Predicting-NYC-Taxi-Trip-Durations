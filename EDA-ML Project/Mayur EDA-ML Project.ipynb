{
 "cells": [
  {
   "cell_type": "code",
   "execution_count": null,
   "id": "34d1a169",
   "metadata": {},
   "outputs": [],
   "source": [
    "I have used Root mean squared error (RMSE) as the evaluation metric since the target variable is continous variable.\n",
    "RMSE is most commonly used evaluation metrics for regression problems beacause it brings down the unit of the differnce between\n",
    "predicted and actual values to the same unit as the target variable. "
   ]
  },
  {
   "cell_type": "code",
   "execution_count": 79,
   "id": "ff427f3c",
   "metadata": {},
   "outputs": [],
   "source": [
    "import pandas as pd\n",
    "import numpy as np\n",
    "import matplotlib.pyplot as plt\n",
    "import warnings\n",
    "warnings.filterwarnings('ignore')"
   ]
  },
  {
   "cell_type": "code",
   "execution_count": 80,
   "id": "6812a9c6",
   "metadata": {},
   "outputs": [
    {
     "data": {
      "text/html": [
       "<div>\n",
       "<style scoped>\n",
       "    .dataframe tbody tr th:only-of-type {\n",
       "        vertical-align: middle;\n",
       "    }\n",
       "\n",
       "    .dataframe tbody tr th {\n",
       "        vertical-align: top;\n",
       "    }\n",
       "\n",
       "    .dataframe thead th {\n",
       "        text-align: right;\n",
       "    }\n",
       "</style>\n",
       "<table border=\"1\" class=\"dataframe\">\n",
       "  <thead>\n",
       "    <tr style=\"text-align: right;\">\n",
       "      <th></th>\n",
       "      <th>id</th>\n",
       "      <th>vendor_id</th>\n",
       "      <th>pickup_datetime</th>\n",
       "      <th>dropoff_datetime</th>\n",
       "      <th>passenger_count</th>\n",
       "      <th>pickup_longitude</th>\n",
       "      <th>pickup_latitude</th>\n",
       "      <th>dropoff_longitude</th>\n",
       "      <th>dropoff_latitude</th>\n",
       "      <th>store_and_fwd_flag</th>\n",
       "      <th>trip_duration</th>\n",
       "    </tr>\n",
       "  </thead>\n",
       "  <tbody>\n",
       "    <tr>\n",
       "      <th>0</th>\n",
       "      <td>id1080784</td>\n",
       "      <td>2</td>\n",
       "      <td>2016-02-29 16:40:21</td>\n",
       "      <td>2016-02-29 16:47:01</td>\n",
       "      <td>1</td>\n",
       "      <td>-73.953918</td>\n",
       "      <td>40.778873</td>\n",
       "      <td>-73.963875</td>\n",
       "      <td>40.771164</td>\n",
       "      <td>N</td>\n",
       "      <td>400</td>\n",
       "    </tr>\n",
       "    <tr>\n",
       "      <th>1</th>\n",
       "      <td>id0889885</td>\n",
       "      <td>1</td>\n",
       "      <td>2016-03-11 23:35:37</td>\n",
       "      <td>2016-03-11 23:53:57</td>\n",
       "      <td>2</td>\n",
       "      <td>-73.988312</td>\n",
       "      <td>40.731743</td>\n",
       "      <td>-73.994751</td>\n",
       "      <td>40.694931</td>\n",
       "      <td>N</td>\n",
       "      <td>1100</td>\n",
       "    </tr>\n",
       "    <tr>\n",
       "      <th>2</th>\n",
       "      <td>id0857912</td>\n",
       "      <td>2</td>\n",
       "      <td>2016-02-21 17:59:33</td>\n",
       "      <td>2016-02-21 18:26:48</td>\n",
       "      <td>2</td>\n",
       "      <td>-73.997314</td>\n",
       "      <td>40.721458</td>\n",
       "      <td>-73.948029</td>\n",
       "      <td>40.774918</td>\n",
       "      <td>N</td>\n",
       "      <td>1635</td>\n",
       "    </tr>\n",
       "    <tr>\n",
       "      <th>3</th>\n",
       "      <td>id3744273</td>\n",
       "      <td>2</td>\n",
       "      <td>2016-01-05 09:44:31</td>\n",
       "      <td>2016-01-05 10:03:32</td>\n",
       "      <td>6</td>\n",
       "      <td>-73.961670</td>\n",
       "      <td>40.759720</td>\n",
       "      <td>-73.956779</td>\n",
       "      <td>40.780628</td>\n",
       "      <td>N</td>\n",
       "      <td>1141</td>\n",
       "    </tr>\n",
       "    <tr>\n",
       "      <th>4</th>\n",
       "      <td>id0232939</td>\n",
       "      <td>1</td>\n",
       "      <td>2016-02-17 06:42:23</td>\n",
       "      <td>2016-02-17 06:56:31</td>\n",
       "      <td>1</td>\n",
       "      <td>-74.017120</td>\n",
       "      <td>40.708469</td>\n",
       "      <td>-73.988182</td>\n",
       "      <td>40.740631</td>\n",
       "      <td>N</td>\n",
       "      <td>848</td>\n",
       "    </tr>\n",
       "  </tbody>\n",
       "</table>\n",
       "</div>"
      ],
      "text/plain": [
       "          id  vendor_id      pickup_datetime     dropoff_datetime  \\\n",
       "0  id1080784          2  2016-02-29 16:40:21  2016-02-29 16:47:01   \n",
       "1  id0889885          1  2016-03-11 23:35:37  2016-03-11 23:53:57   \n",
       "2  id0857912          2  2016-02-21 17:59:33  2016-02-21 18:26:48   \n",
       "3  id3744273          2  2016-01-05 09:44:31  2016-01-05 10:03:32   \n",
       "4  id0232939          1  2016-02-17 06:42:23  2016-02-17 06:56:31   \n",
       "\n",
       "   passenger_count  pickup_longitude  pickup_latitude  dropoff_longitude  \\\n",
       "0                1        -73.953918        40.778873         -73.963875   \n",
       "1                2        -73.988312        40.731743         -73.994751   \n",
       "2                2        -73.997314        40.721458         -73.948029   \n",
       "3                6        -73.961670        40.759720         -73.956779   \n",
       "4                1        -74.017120        40.708469         -73.988182   \n",
       "\n",
       "   dropoff_latitude store_and_fwd_flag  trip_duration  \n",
       "0         40.771164                  N            400  \n",
       "1         40.694931                  N           1100  \n",
       "2         40.774918                  N           1635  \n",
       "3         40.780628                  N           1141  \n",
       "4         40.740631                  N            848  "
      ]
     },
     "execution_count": 80,
     "metadata": {},
     "output_type": "execute_result"
    }
   ],
   "source": [
    "data=pd.read_csv(\"nyc_taxi_trip_duration.csv\")\n",
    "data.head()"
   ]
  },
  {
   "cell_type": "code",
   "execution_count": 81,
   "id": "4f6f45cf",
   "metadata": {},
   "outputs": [
    {
     "data": {
      "text/plain": [
       "(729322, 11)"
      ]
     },
     "execution_count": 81,
     "metadata": {},
     "output_type": "execute_result"
    }
   ],
   "source": [
    "data.shape"
   ]
  },
  {
   "cell_type": "code",
   "execution_count": 82,
   "id": "78be6638",
   "metadata": {},
   "outputs": [
    {
     "data": {
      "text/plain": [
       "id                     object\n",
       "vendor_id               int64\n",
       "pickup_datetime        object\n",
       "dropoff_datetime       object\n",
       "passenger_count         int64\n",
       "pickup_longitude      float64\n",
       "pickup_latitude       float64\n",
       "dropoff_longitude     float64\n",
       "dropoff_latitude      float64\n",
       "store_and_fwd_flag     object\n",
       "trip_duration           int64\n",
       "dtype: object"
      ]
     },
     "execution_count": 82,
     "metadata": {},
     "output_type": "execute_result"
    }
   ],
   "source": [
    "data.dtypes"
   ]
  },
  {
   "cell_type": "code",
   "execution_count": 83,
   "id": "6b9e247d",
   "metadata": {},
   "outputs": [
    {
     "data": {
      "text/plain": [
       "id                    0\n",
       "vendor_id             0\n",
       "pickup_datetime       0\n",
       "dropoff_datetime      0\n",
       "passenger_count       0\n",
       "pickup_longitude      0\n",
       "pickup_latitude       0\n",
       "dropoff_longitude     0\n",
       "dropoff_latitude      0\n",
       "store_and_fwd_flag    0\n",
       "trip_duration         0\n",
       "dtype: int64"
      ]
     },
     "execution_count": 83,
     "metadata": {},
     "output_type": "execute_result"
    }
   ],
   "source": [
    "data.isna().sum()"
   ]
  },
  {
   "cell_type": "code",
   "execution_count": 84,
   "id": "f62e581e",
   "metadata": {},
   "outputs": [],
   "source": [
    "data['trip_duration_hour'] = data['trip_duration'].apply(lambda x: x/3600)\n",
    "data.drop(columns=['trip_duration'], inplace=True)"
   ]
  },
  {
   "cell_type": "code",
   "execution_count": 85,
   "id": "70c0362a",
   "metadata": {},
   "outputs": [
    {
     "data": {
      "text/html": [
       "<div>\n",
       "<style scoped>\n",
       "    .dataframe tbody tr th:only-of-type {\n",
       "        vertical-align: middle;\n",
       "    }\n",
       "\n",
       "    .dataframe tbody tr th {\n",
       "        vertical-align: top;\n",
       "    }\n",
       "\n",
       "    .dataframe thead th {\n",
       "        text-align: right;\n",
       "    }\n",
       "</style>\n",
       "<table border=\"1\" class=\"dataframe\">\n",
       "  <thead>\n",
       "    <tr style=\"text-align: right;\">\n",
       "      <th></th>\n",
       "      <th>id</th>\n",
       "      <th>vendor_id</th>\n",
       "      <th>pickup_datetime</th>\n",
       "      <th>dropoff_datetime</th>\n",
       "      <th>passenger_count</th>\n",
       "      <th>pickup_longitude</th>\n",
       "      <th>pickup_latitude</th>\n",
       "      <th>dropoff_longitude</th>\n",
       "      <th>dropoff_latitude</th>\n",
       "      <th>store_and_fwd_flag</th>\n",
       "      <th>trip_duration_hour</th>\n",
       "    </tr>\n",
       "  </thead>\n",
       "  <tbody>\n",
       "    <tr>\n",
       "      <th>0</th>\n",
       "      <td>id1080784</td>\n",
       "      <td>2</td>\n",
       "      <td>2016-02-29 16:40:21</td>\n",
       "      <td>2016-02-29 16:47:01</td>\n",
       "      <td>1</td>\n",
       "      <td>-73.953918</td>\n",
       "      <td>40.778873</td>\n",
       "      <td>-73.963875</td>\n",
       "      <td>40.771164</td>\n",
       "      <td>N</td>\n",
       "      <td>0.111111</td>\n",
       "    </tr>\n",
       "    <tr>\n",
       "      <th>1</th>\n",
       "      <td>id0889885</td>\n",
       "      <td>1</td>\n",
       "      <td>2016-03-11 23:35:37</td>\n",
       "      <td>2016-03-11 23:53:57</td>\n",
       "      <td>2</td>\n",
       "      <td>-73.988312</td>\n",
       "      <td>40.731743</td>\n",
       "      <td>-73.994751</td>\n",
       "      <td>40.694931</td>\n",
       "      <td>N</td>\n",
       "      <td>0.305556</td>\n",
       "    </tr>\n",
       "    <tr>\n",
       "      <th>2</th>\n",
       "      <td>id0857912</td>\n",
       "      <td>2</td>\n",
       "      <td>2016-02-21 17:59:33</td>\n",
       "      <td>2016-02-21 18:26:48</td>\n",
       "      <td>2</td>\n",
       "      <td>-73.997314</td>\n",
       "      <td>40.721458</td>\n",
       "      <td>-73.948029</td>\n",
       "      <td>40.774918</td>\n",
       "      <td>N</td>\n",
       "      <td>0.454167</td>\n",
       "    </tr>\n",
       "    <tr>\n",
       "      <th>3</th>\n",
       "      <td>id3744273</td>\n",
       "      <td>2</td>\n",
       "      <td>2016-01-05 09:44:31</td>\n",
       "      <td>2016-01-05 10:03:32</td>\n",
       "      <td>6</td>\n",
       "      <td>-73.961670</td>\n",
       "      <td>40.759720</td>\n",
       "      <td>-73.956779</td>\n",
       "      <td>40.780628</td>\n",
       "      <td>N</td>\n",
       "      <td>0.316944</td>\n",
       "    </tr>\n",
       "    <tr>\n",
       "      <th>4</th>\n",
       "      <td>id0232939</td>\n",
       "      <td>1</td>\n",
       "      <td>2016-02-17 06:42:23</td>\n",
       "      <td>2016-02-17 06:56:31</td>\n",
       "      <td>1</td>\n",
       "      <td>-74.017120</td>\n",
       "      <td>40.708469</td>\n",
       "      <td>-73.988182</td>\n",
       "      <td>40.740631</td>\n",
       "      <td>N</td>\n",
       "      <td>0.235556</td>\n",
       "    </tr>\n",
       "  </tbody>\n",
       "</table>\n",
       "</div>"
      ],
      "text/plain": [
       "          id  vendor_id      pickup_datetime     dropoff_datetime  \\\n",
       "0  id1080784          2  2016-02-29 16:40:21  2016-02-29 16:47:01   \n",
       "1  id0889885          1  2016-03-11 23:35:37  2016-03-11 23:53:57   \n",
       "2  id0857912          2  2016-02-21 17:59:33  2016-02-21 18:26:48   \n",
       "3  id3744273          2  2016-01-05 09:44:31  2016-01-05 10:03:32   \n",
       "4  id0232939          1  2016-02-17 06:42:23  2016-02-17 06:56:31   \n",
       "\n",
       "   passenger_count  pickup_longitude  pickup_latitude  dropoff_longitude  \\\n",
       "0                1        -73.953918        40.778873         -73.963875   \n",
       "1                2        -73.988312        40.731743         -73.994751   \n",
       "2                2        -73.997314        40.721458         -73.948029   \n",
       "3                6        -73.961670        40.759720         -73.956779   \n",
       "4                1        -74.017120        40.708469         -73.988182   \n",
       "\n",
       "   dropoff_latitude store_and_fwd_flag  trip_duration_hour  \n",
       "0         40.771164                  N            0.111111  \n",
       "1         40.694931                  N            0.305556  \n",
       "2         40.774918                  N            0.454167  \n",
       "3         40.780628                  N            0.316944  \n",
       "4         40.740631                  N            0.235556  "
      ]
     },
     "execution_count": 85,
     "metadata": {},
     "output_type": "execute_result"
    }
   ],
   "source": [
    "data.head()"
   ]
  },
  {
   "cell_type": "code",
   "execution_count": 86,
   "id": "e8fff01a",
   "metadata": {},
   "outputs": [],
   "source": [
    "data['pickup_datetime'] = pd.to_datetime(data['pickup_datetime'], format = '%Y-%m-%d %H')\n",
    "data['dropoff_datetime'] = pd.to_datetime(data['dropoff_datetime'], format = '%Y-%m-%d %H')"
   ]
  },
  {
   "cell_type": "code",
   "execution_count": 87,
   "id": "2cf157ca",
   "metadata": {},
   "outputs": [],
   "source": [
    "data['pickup_hour'] = data['pickup_datetime'].dt.hour\n",
    "data['pickup_weekday'] = data['pickup_datetime'].dt.weekday\n",
    "data['pickup_day'] = data['pickup_datetime'].dt.day\n",
    "data['pickup_month'] = data['pickup_datetime'].dt.month\n",
    "data['pickup_year'] = data['pickup_datetime'].dt.year\n",
    "data['pickup_date'] = data['pickup_datetime'].dt.date\n",
    "\n",
    "data['dropoff_hour'] = data['dropoff_datetime'].dt.hour\n",
    "data['dropoff_weekday'] = data['dropoff_datetime'].dt.weekday\n",
    "data['dropoff_day'] = data['dropoff_datetime'].dt.day\n",
    "data['dropoff_month'] = data['dropoff_datetime'].dt.month\n",
    "data['dropoff_year'] = data['dropoff_datetime'].dt.year\n",
    "data['dropoff_date'] = data['dropoff_datetime'].dt.date"
   ]
  },
  {
   "cell_type": "code",
   "execution_count": 88,
   "id": "5b87c03f",
   "metadata": {},
   "outputs": [],
   "source": [
    "def time_of_day(x):\n",
    "    # to calculate time \n",
    "    if x in range(6,12):\n",
    "        return 'Morning'\n",
    "    elif x in range(12,16):\n",
    "        return 'Afternoon'\n",
    "    elif x in range(16,22):\n",
    "        return 'Evening'\n",
    "    else:\n",
    "        return 'Late night'\n",
    "\n",
    "data['pickup_time_of_day'] = data['pickup_hour'].apply(time_of_day)\n",
    "data['dropoff_time_of_day'] = data['dropoff_hour'].apply(time_of_day)"
   ]
  },
  {
   "cell_type": "code",
   "execution_count": 89,
   "id": "2e5919fc",
   "metadata": {},
   "outputs": [],
   "source": [
    "data.drop(columns=['pickup_hour','pickup_weekday','pickup_day','pickup_month','pickup_year','dropoff_hour','dropoff_weekday','dropoff_day','dropoff_month','dropoff_year'], inplace=True)"
   ]
  },
  {
   "cell_type": "code",
   "execution_count": 90,
   "id": "bb210586",
   "metadata": {},
   "outputs": [],
   "source": [
    "#simple predictive model\n",
    "data[\"trip_duration_hour_mean\"]=data[\"trip_duration_hour\"].mean()"
   ]
  },
  {
   "cell_type": "code",
   "execution_count": 91,
   "id": "865f97e5",
   "metadata": {},
   "outputs": [
    {
     "data": {
      "text/plain": [
       "0    0.264508\n",
       "1    0.264508\n",
       "2    0.264508\n",
       "3    0.264508\n",
       "4    0.264508\n",
       "Name: trip_duration_hour_mean, dtype: float64"
      ]
     },
     "execution_count": 91,
     "metadata": {},
     "output_type": "execute_result"
    }
   ],
   "source": [
    "data[\"trip_duration_hour_mean\"].head()"
   ]
  },
  {
   "cell_type": "code",
   "execution_count": 92,
   "id": "e6e51c58",
   "metadata": {},
   "outputs": [
    {
     "data": {
      "text/plain": [
       "<matplotlib.legend.Legend at 0x27cd790b220>"
      ]
     },
     "execution_count": 92,
     "metadata": {},
     "output_type": "execute_result"
    },
    {
     "data": {
      "image/png": "[encoded data removed]",
      "text/plain": [
       "<Figure size 768x576 with 1 Axes>"
      ]
     },
     "metadata": {},
     "output_type": "display_data"
    }
   ],
   "source": [
    "plt.figure(dpi=120)\n",
    "k = range(0,len(data))\n",
    "plt.scatter(k,data[\"trip_duration_hour\"].sort_values(),color=\"green\",label=\"Actual trip duration hour\")\n",
    "plt.plot(k,data[\"trip_duration_hour_mean\"].sort_values(),color =\"red\",label=\"Predicted trip duration hour\")\n",
    "plt.xlabel(\"Fitted Points\")\n",
    "plt.ylabel(\"Trip Duration Hour\")\n",
    "plt.title(\"Gross Mean\")\n",
    "plt.legend()"
   ]
  },
  {
   "cell_type": "code",
   "execution_count": 93,
   "id": "0c6fb926",
   "metadata": {},
   "outputs": [],
   "source": [
    "# From above simple predictive model we can infer that the values of actual trip duration and predicted duration are almost same."
   ]
  },
  {
   "cell_type": "code",
   "execution_count": 94,
   "id": "c7f97c5f",
   "metadata": {},
   "outputs": [],
   "source": [
    "#From scikitlearn importing shuffle to shuffle data\n",
    "from sklearn.utils import shuffle\n",
    "\n",
    "# Shuffling the Dataset\n",
    "data = shuffle(data, random_state = 40)\n",
    "\n",
    "#Creating 4 divisions\n",
    "div = int(data.shape[0]/4)\n",
    "\n",
    "#Creating 3 parts for train set and 1 part for test set\n",
    "train = data.loc[:3*div+1,:]\n",
    "test = data.loc[3*div+1:]"
   ]
  },
  {
   "cell_type": "code",
   "execution_count": 95,
   "id": "079c88ae",
   "metadata": {},
   "outputs": [
    {
     "data": {
      "text/html": [
       "<div>\n",
       "<style scoped>\n",
       "    .dataframe tbody tr th:only-of-type {\n",
       "        vertical-align: middle;\n",
       "    }\n",
       "\n",
       "    .dataframe tbody tr th {\n",
       "        vertical-align: top;\n",
       "    }\n",
       "\n",
       "    .dataframe thead th {\n",
       "        text-align: right;\n",
       "    }\n",
       "</style>\n",
       "<table border=\"1\" class=\"dataframe\">\n",
       "  <thead>\n",
       "    <tr style=\"text-align: right;\">\n",
       "      <th></th>\n",
       "      <th>id</th>\n",
       "      <th>vendor_id</th>\n",
       "      <th>pickup_datetime</th>\n",
       "      <th>dropoff_datetime</th>\n",
       "      <th>passenger_count</th>\n",
       "      <th>pickup_longitude</th>\n",
       "      <th>pickup_latitude</th>\n",
       "      <th>dropoff_longitude</th>\n",
       "      <th>dropoff_latitude</th>\n",
       "      <th>store_and_fwd_flag</th>\n",
       "      <th>trip_duration_hour</th>\n",
       "      <th>pickup_date</th>\n",
       "      <th>dropoff_date</th>\n",
       "      <th>pickup_time_of_day</th>\n",
       "      <th>dropoff_time_of_day</th>\n",
       "      <th>trip_duration_hour_mean</th>\n",
       "    </tr>\n",
       "  </thead>\n",
       "  <tbody>\n",
       "    <tr>\n",
       "      <th>111850</th>\n",
       "      <td>id3385449</td>\n",
       "      <td>2</td>\n",
       "      <td>2016-01-28 10:50:18</td>\n",
       "      <td>2016-01-28 11:49:04</td>\n",
       "      <td>1</td>\n",
       "      <td>-73.971672</td>\n",
       "      <td>40.750454</td>\n",
       "      <td>-73.982430</td>\n",
       "      <td>40.623718</td>\n",
       "      <td>N</td>\n",
       "      <td>0.979444</td>\n",
       "      <td>2016-01-28</td>\n",
       "      <td>2016-01-28</td>\n",
       "      <td>Morning</td>\n",
       "      <td>Morning</td>\n",
       "      <td>0.264508</td>\n",
       "    </tr>\n",
       "    <tr>\n",
       "      <th>469591</th>\n",
       "      <td>id0149835</td>\n",
       "      <td>1</td>\n",
       "      <td>2016-02-05 00:12:12</td>\n",
       "      <td>2016-02-05 00:20:33</td>\n",
       "      <td>1</td>\n",
       "      <td>-73.993820</td>\n",
       "      <td>40.740669</td>\n",
       "      <td>-73.972504</td>\n",
       "      <td>40.753811</td>\n",
       "      <td>Y</td>\n",
       "      <td>0.139167</td>\n",
       "      <td>2016-02-05</td>\n",
       "      <td>2016-02-05</td>\n",
       "      <td>Late night</td>\n",
       "      <td>Late night</td>\n",
       "      <td>0.264508</td>\n",
       "    </tr>\n",
       "    <tr>\n",
       "      <th>256857</th>\n",
       "      <td>id0996500</td>\n",
       "      <td>2</td>\n",
       "      <td>2016-01-26 12:19:42</td>\n",
       "      <td>2016-01-26 12:28:12</td>\n",
       "      <td>1</td>\n",
       "      <td>-73.946243</td>\n",
       "      <td>40.776466</td>\n",
       "      <td>-73.955566</td>\n",
       "      <td>40.777031</td>\n",
       "      <td>N</td>\n",
       "      <td>0.141667</td>\n",
       "      <td>2016-01-26</td>\n",
       "      <td>2016-01-26</td>\n",
       "      <td>Afternoon</td>\n",
       "      <td>Afternoon</td>\n",
       "      <td>0.264508</td>\n",
       "    </tr>\n",
       "    <tr>\n",
       "      <th>716018</th>\n",
       "      <td>id2057623</td>\n",
       "      <td>2</td>\n",
       "      <td>2016-06-06 19:03:38</td>\n",
       "      <td>2016-06-06 19:08:50</td>\n",
       "      <td>1</td>\n",
       "      <td>-73.968842</td>\n",
       "      <td>40.787781</td>\n",
       "      <td>-73.959480</td>\n",
       "      <td>40.806240</td>\n",
       "      <td>N</td>\n",
       "      <td>0.086667</td>\n",
       "      <td>2016-06-06</td>\n",
       "      <td>2016-06-06</td>\n",
       "      <td>Evening</td>\n",
       "      <td>Evening</td>\n",
       "      <td>0.264508</td>\n",
       "    </tr>\n",
       "    <tr>\n",
       "      <th>474191</th>\n",
       "      <td>id2305401</td>\n",
       "      <td>1</td>\n",
       "      <td>2016-01-27 05:59:51</td>\n",
       "      <td>2016-01-27 06:07:22</td>\n",
       "      <td>1</td>\n",
       "      <td>-73.976662</td>\n",
       "      <td>40.755486</td>\n",
       "      <td>-73.981544</td>\n",
       "      <td>40.759869</td>\n",
       "      <td>N</td>\n",
       "      <td>0.125278</td>\n",
       "      <td>2016-01-27</td>\n",
       "      <td>2016-01-27</td>\n",
       "      <td>Late night</td>\n",
       "      <td>Morning</td>\n",
       "      <td>0.264508</td>\n",
       "    </tr>\n",
       "  </tbody>\n",
       "</table>\n",
       "</div>"
      ],
      "text/plain": [
       "               id  vendor_id     pickup_datetime    dropoff_datetime  \\\n",
       "111850  id3385449          2 2016-01-28 10:50:18 2016-01-28 11:49:04   \n",
       "469591  id0149835          1 2016-02-05 00:12:12 2016-02-05 00:20:33   \n",
       "256857  id0996500          2 2016-01-26 12:19:42 2016-01-26 12:28:12   \n",
       "716018  id2057623          2 2016-06-06 19:03:38 2016-06-06 19:08:50   \n",
       "474191  id2305401          1 2016-01-27 05:59:51 2016-01-27 06:07:22   \n",
       "\n",
       "        passenger_count  pickup_longitude  pickup_latitude  dropoff_longitude  \\\n",
       "111850                1        -73.971672        40.750454         -73.982430   \n",
       "469591                1        -73.993820        40.740669         -73.972504   \n",
       "256857                1        -73.946243        40.776466         -73.955566   \n",
       "716018                1        -73.968842        40.787781         -73.959480   \n",
       "474191                1        -73.976662        40.755486         -73.981544   \n",
       "\n",
       "        dropoff_latitude store_and_fwd_flag  trip_duration_hour pickup_date  \\\n",
       "111850         40.623718                  N            0.979444  2016-01-28   \n",
       "469591         40.753811                  Y            0.139167  2016-02-05   \n",
       "256857         40.777031                  N            0.141667  2016-01-26   \n",
       "716018         40.806240                  N            0.086667  2016-06-06   \n",
       "474191         40.759869                  N            0.125278  2016-01-27   \n",
       "\n",
       "       dropoff_date pickup_time_of_day dropoff_time_of_day  \\\n",
       "111850   2016-01-28            Morning             Morning   \n",
       "469591   2016-02-05         Late night          Late night   \n",
       "256857   2016-01-26          Afternoon           Afternoon   \n",
       "716018   2016-06-06            Evening             Evening   \n",
       "474191   2016-01-27         Late night             Morning   \n",
       "\n",
       "        trip_duration_hour_mean  \n",
       "111850                 0.264508  \n",
       "469591                 0.264508  \n",
       "256857                 0.264508  \n",
       "716018                 0.264508  \n",
       "474191                 0.264508  "
      ]
     },
     "execution_count": 95,
     "metadata": {},
     "output_type": "execute_result"
    }
   ],
   "source": [
    "train.head()"
   ]
  },
  {
   "cell_type": "code",
   "execution_count": 96,
   "id": "95368a88",
   "metadata": {},
   "outputs": [
    {
     "data": {
      "text/html": [
       "<div>\n",
       "<style scoped>\n",
       "    .dataframe tbody tr th:only-of-type {\n",
       "        vertical-align: middle;\n",
       "    }\n",
       "\n",
       "    .dataframe tbody tr th {\n",
       "        vertical-align: top;\n",
       "    }\n",
       "\n",
       "    .dataframe thead th {\n",
       "        text-align: right;\n",
       "    }\n",
       "</style>\n",
       "<table border=\"1\" class=\"dataframe\">\n",
       "  <thead>\n",
       "    <tr style=\"text-align: right;\">\n",
       "      <th></th>\n",
       "      <th>id</th>\n",
       "      <th>vendor_id</th>\n",
       "      <th>pickup_datetime</th>\n",
       "      <th>dropoff_datetime</th>\n",
       "      <th>passenger_count</th>\n",
       "      <th>pickup_longitude</th>\n",
       "      <th>pickup_latitude</th>\n",
       "      <th>dropoff_longitude</th>\n",
       "      <th>dropoff_latitude</th>\n",
       "      <th>store_and_fwd_flag</th>\n",
       "      <th>trip_duration_hour</th>\n",
       "      <th>pickup_date</th>\n",
       "      <th>dropoff_date</th>\n",
       "      <th>pickup_time_of_day</th>\n",
       "      <th>dropoff_time_of_day</th>\n",
       "      <th>trip_duration_hour_mean</th>\n",
       "    </tr>\n",
       "  </thead>\n",
       "  <tbody>\n",
       "    <tr>\n",
       "      <th>546991</th>\n",
       "      <td>id2240736</td>\n",
       "      <td>1</td>\n",
       "      <td>2016-05-25 07:59:16</td>\n",
       "      <td>2016-05-25 08:05:02</td>\n",
       "      <td>1</td>\n",
       "      <td>-73.991364</td>\n",
       "      <td>40.732590</td>\n",
       "      <td>-74.000526</td>\n",
       "      <td>40.742283</td>\n",
       "      <td>N</td>\n",
       "      <td>0.096111</td>\n",
       "      <td>2016-05-25</td>\n",
       "      <td>2016-05-25</td>\n",
       "      <td>Morning</td>\n",
       "      <td>Morning</td>\n",
       "      <td>0.264508</td>\n",
       "    </tr>\n",
       "    <tr>\n",
       "      <th>154849</th>\n",
       "      <td>id0267693</td>\n",
       "      <td>1</td>\n",
       "      <td>2016-05-05 17:55:52</td>\n",
       "      <td>2016-05-05 18:08:40</td>\n",
       "      <td>2</td>\n",
       "      <td>-73.987717</td>\n",
       "      <td>40.779442</td>\n",
       "      <td>-73.984131</td>\n",
       "      <td>40.766518</td>\n",
       "      <td>N</td>\n",
       "      <td>0.213333</td>\n",
       "      <td>2016-05-05</td>\n",
       "      <td>2016-05-05</td>\n",
       "      <td>Evening</td>\n",
       "      <td>Evening</td>\n",
       "      <td>0.264508</td>\n",
       "    </tr>\n",
       "    <tr>\n",
       "      <th>212092</th>\n",
       "      <td>id3996344</td>\n",
       "      <td>2</td>\n",
       "      <td>2016-04-23 22:23:05</td>\n",
       "      <td>2016-04-23 22:45:04</td>\n",
       "      <td>1</td>\n",
       "      <td>-73.952843</td>\n",
       "      <td>40.781517</td>\n",
       "      <td>-74.005219</td>\n",
       "      <td>40.720673</td>\n",
       "      <td>N</td>\n",
       "      <td>0.366389</td>\n",
       "      <td>2016-04-23</td>\n",
       "      <td>2016-04-23</td>\n",
       "      <td>Late night</td>\n",
       "      <td>Late night</td>\n",
       "      <td>0.264508</td>\n",
       "    </tr>\n",
       "    <tr>\n",
       "      <th>75068</th>\n",
       "      <td>id2200685</td>\n",
       "      <td>2</td>\n",
       "      <td>2016-02-13 22:55:30</td>\n",
       "      <td>2016-02-13 23:02:30</td>\n",
       "      <td>1</td>\n",
       "      <td>-73.977684</td>\n",
       "      <td>40.786919</td>\n",
       "      <td>-73.989174</td>\n",
       "      <td>40.777111</td>\n",
       "      <td>N</td>\n",
       "      <td>0.116667</td>\n",
       "      <td>2016-02-13</td>\n",
       "      <td>2016-02-13</td>\n",
       "      <td>Late night</td>\n",
       "      <td>Late night</td>\n",
       "      <td>0.264508</td>\n",
       "    </tr>\n",
       "    <tr>\n",
       "      <th>593333</th>\n",
       "      <td>id1212766</td>\n",
       "      <td>2</td>\n",
       "      <td>2016-01-02 10:09:12</td>\n",
       "      <td>2016-01-02 10:19:17</td>\n",
       "      <td>6</td>\n",
       "      <td>-73.976288</td>\n",
       "      <td>40.752018</td>\n",
       "      <td>-73.983536</td>\n",
       "      <td>40.765495</td>\n",
       "      <td>N</td>\n",
       "      <td>0.168056</td>\n",
       "      <td>2016-01-02</td>\n",
       "      <td>2016-01-02</td>\n",
       "      <td>Morning</td>\n",
       "      <td>Morning</td>\n",
       "      <td>0.264508</td>\n",
       "    </tr>\n",
       "  </tbody>\n",
       "</table>\n",
       "</div>"
      ],
      "text/plain": [
       "               id  vendor_id     pickup_datetime    dropoff_datetime  \\\n",
       "546991  id2240736          1 2016-05-25 07:59:16 2016-05-25 08:05:02   \n",
       "154849  id0267693          1 2016-05-05 17:55:52 2016-05-05 18:08:40   \n",
       "212092  id3996344          2 2016-04-23 22:23:05 2016-04-23 22:45:04   \n",
       "75068   id2200685          2 2016-02-13 22:55:30 2016-02-13 23:02:30   \n",
       "593333  id1212766          2 2016-01-02 10:09:12 2016-01-02 10:19:17   \n",
       "\n",
       "        passenger_count  pickup_longitude  pickup_latitude  dropoff_longitude  \\\n",
       "546991                1        -73.991364        40.732590         -74.000526   \n",
       "154849                2        -73.987717        40.779442         -73.984131   \n",
       "212092                1        -73.952843        40.781517         -74.005219   \n",
       "75068                 1        -73.977684        40.786919         -73.989174   \n",
       "593333                6        -73.976288        40.752018         -73.983536   \n",
       "\n",
       "        dropoff_latitude store_and_fwd_flag  trip_duration_hour pickup_date  \\\n",
       "546991         40.742283                  N            0.096111  2016-05-25   \n",
       "154849         40.766518                  N            0.213333  2016-05-05   \n",
       "212092         40.720673                  N            0.366389  2016-04-23   \n",
       "75068          40.777111                  N            0.116667  2016-02-13   \n",
       "593333         40.765495                  N            0.168056  2016-01-02   \n",
       "\n",
       "       dropoff_date pickup_time_of_day dropoff_time_of_day  \\\n",
       "546991   2016-05-25            Morning             Morning   \n",
       "154849   2016-05-05            Evening             Evening   \n",
       "212092   2016-04-23         Late night          Late night   \n",
       "75068    2016-02-13         Late night          Late night   \n",
       "593333   2016-01-02            Morning             Morning   \n",
       "\n",
       "        trip_duration_hour_mean  \n",
       "546991                 0.264508  \n",
       "154849                 0.264508  \n",
       "212092                 0.264508  \n",
       "75068                  0.264508  \n",
       "593333                 0.264508  "
      ]
     },
     "execution_count": 96,
     "metadata": {},
     "output_type": "execute_result"
    }
   ],
   "source": [
    "test.head()"
   ]
  },
  {
   "cell_type": "code",
   "execution_count": 97,
   "id": "8dcb43d3",
   "metadata": {},
   "outputs": [
    {
     "data": {
      "text/plain": [
       "111850    0.264508\n",
       "469591    0.264508\n",
       "256857    0.264508\n",
       "716018    0.264508\n",
       "474191    0.264508\n",
       "            ...   \n",
       "200211    0.264508\n",
       "137031    0.264508\n",
       "666892    0.264508\n",
       "114369    0.264508\n",
       "473253    0.264508\n",
       "Name: trip_duration_hour_mean, Length: 729322, dtype: float64"
      ]
     },
     "execution_count": 97,
     "metadata": {},
     "output_type": "execute_result"
    }
   ],
   "source": [
    "#Storing simple mean in a new column in the test set as \"simple_mean\"\n",
    "data[\"trip_duration_hour_mean\"]=data[\"trip_duration_hour\"].mean()\n",
    "data[\"trip_duration_hour_mean\"]"
   ]
  },
  {
   "cell_type": "code",
   "execution_count": 98,
   "id": "b5756091",
   "metadata": {},
   "outputs": [
    {
     "data": {
      "text/plain": [
       "0.8560972301003034"
      ]
     },
     "execution_count": 98,
     "metadata": {},
     "output_type": "execute_result"
    }
   ],
   "source": [
    "#Calculating MSE\n",
    "from sklearn.metrics import mean_squared_error as mse\n",
    "from math import sqrt\n",
    "\n",
    "trip_mean_error = sqrt((mse(test['trip_duration_hour'] , test['trip_duration_hour_mean'])))\n",
    "trip_mean_error"
   ]
  },
  {
   "cell_type": "code",
   "execution_count": 99,
   "id": "518546f3",
   "metadata": {},
   "outputs": [
    {
     "data": {
      "text/html": [
       "<div>\n",
       "<style scoped>\n",
       "    .dataframe tbody tr th:only-of-type {\n",
       "        vertical-align: middle;\n",
       "    }\n",
       "\n",
       "    .dataframe tbody tr th {\n",
       "        vertical-align: top;\n",
       "    }\n",
       "\n",
       "    .dataframe thead th {\n",
       "        text-align: right;\n",
       "    }\n",
       "</style>\n",
       "<table border=\"1\" class=\"dataframe\">\n",
       "  <thead>\n",
       "    <tr style=\"text-align: right;\">\n",
       "      <th></th>\n",
       "      <th>trip_duration_hour</th>\n",
       "    </tr>\n",
       "    <tr>\n",
       "      <th>pickup_time_of_day</th>\n",
       "      <th></th>\n",
       "    </tr>\n",
       "  </thead>\n",
       "  <tbody>\n",
       "    <tr>\n",
       "      <th>Afternoon</th>\n",
       "      <td>0.289674</td>\n",
       "    </tr>\n",
       "    <tr>\n",
       "      <th>Evening</th>\n",
       "      <td>0.263445</td>\n",
       "    </tr>\n",
       "    <tr>\n",
       "      <th>Late night</th>\n",
       "      <td>0.260407</td>\n",
       "    </tr>\n",
       "    <tr>\n",
       "      <th>Morning</th>\n",
       "      <td>0.250434</td>\n",
       "    </tr>\n",
       "  </tbody>\n",
       "</table>\n",
       "</div>"
      ],
      "text/plain": [
       "                    trip_duration_hour\n",
       "pickup_time_of_day                    \n",
       "Afternoon                     0.289674\n",
       "Evening                       0.263445\n",
       "Late night                    0.260407\n",
       "Morning                       0.250434"
      ]
     },
     "execution_count": 99,
     "metadata": {},
     "output_type": "execute_result"
    }
   ],
   "source": [
    "#Trip duration mean with respect to the mean pickup time of the day.\n",
    "pickup = pd.pivot_table(train, values='trip_duration_hour', index = ['pickup_time_of_day'], aggfunc=np.mean)\n",
    "pickup"
   ]
  },
  {
   "cell_type": "code",
   "execution_count": 100,
   "id": "b3c67c6b",
   "metadata": {},
   "outputs": [],
   "source": [
    "#Initializing new column to zero\n",
    "test['pickup'] = 0\n",
    "\n",
    "#For every unique entry in pickup longitude\n",
    "for i in train['pickup_time_of_day'].unique():\n",
    "#Assign the mean value corresponding to unique entry\n",
    "  test['pickup'][test['pickup_time_of_day'] == str(i)] = train['trip_duration_hour'][train['pickup_time_of_day'] == str(i)].mean()"
   ]
  },
  {
   "cell_type": "code",
   "execution_count": 101,
   "id": "499be137",
   "metadata": {},
   "outputs": [
    {
     "data": {
      "text/plain": [
       "0.8559977153929387"
      ]
     },
     "execution_count": 101,
     "metadata": {},
     "output_type": "execute_result"
    }
   ],
   "source": [
    "#Calculating RMSE\n",
    "pickup_error = sqrt(mse(test['trip_duration_hour'] , test['pickup'] ))\n",
    "pickup_error"
   ]
  },
  {
   "cell_type": "code",
   "execution_count": 102,
   "id": "9f213e60",
   "metadata": {},
   "outputs": [],
   "source": [
    "#The RMSE of the mean trip duration hour with respect to the mean of pickup time of the day is higher than the simple mean of the trip duration hour"
   ]
  },
  {
   "cell_type": "code",
   "execution_count": 103,
   "id": "e9b985cc",
   "metadata": {},
   "outputs": [
    {
     "data": {
      "text/html": [
       "<div>\n",
       "<style scoped>\n",
       "    .dataframe tbody tr th:only-of-type {\n",
       "        vertical-align: middle;\n",
       "    }\n",
       "\n",
       "    .dataframe tbody tr th {\n",
       "        vertical-align: top;\n",
       "    }\n",
       "\n",
       "    .dataframe thead th {\n",
       "        text-align: right;\n",
       "    }\n",
       "</style>\n",
       "<table border=\"1\" class=\"dataframe\">\n",
       "  <thead>\n",
       "    <tr style=\"text-align: right;\">\n",
       "      <th></th>\n",
       "      <th>trip_duration_hour</th>\n",
       "    </tr>\n",
       "    <tr>\n",
       "      <th>dropoff_time_of_day</th>\n",
       "      <th></th>\n",
       "    </tr>\n",
       "  </thead>\n",
       "  <tbody>\n",
       "    <tr>\n",
       "      <th>Afternoon</th>\n",
       "      <td>0.281623</td>\n",
       "    </tr>\n",
       "    <tr>\n",
       "      <th>Evening</th>\n",
       "      <td>0.269520</td>\n",
       "    </tr>\n",
       "    <tr>\n",
       "      <th>Late night</th>\n",
       "      <td>0.260271</td>\n",
       "    </tr>\n",
       "    <tr>\n",
       "      <th>Morning</th>\n",
       "      <td>0.248318</td>\n",
       "    </tr>\n",
       "  </tbody>\n",
       "</table>\n",
       "</div>"
      ],
      "text/plain": [
       "                     trip_duration_hour\n",
       "dropoff_time_of_day                    \n",
       "Afternoon                      0.281623\n",
       "Evening                        0.269520\n",
       "Late night                     0.260271\n",
       "Morning                        0.248318"
      ]
     },
     "execution_count": 103,
     "metadata": {},
     "output_type": "execute_result"
    }
   ],
   "source": [
    "#Trip duration mean with respect to the mean of dropoff time of the day\n",
    "dropoff =pd.pivot_table(train, values='trip_duration_hour', index = ['dropoff_time_of_day'], aggfunc=np.mean)\n",
    "dropoff"
   ]
  },
  {
   "cell_type": "code",
   "execution_count": 104,
   "id": "daae78ed",
   "metadata": {},
   "outputs": [],
   "source": [
    "#Initializing new column to zero\n",
    "test['dropoff'] = 0\n",
    "\n",
    "#For every unique entry in pickup latitude\n",
    "for i in train['dropoff_time_of_day'].unique():\n",
    "#Assign the mean value corresponding to unique entry\n",
    "  test['dropoff'][test['dropoff_time_of_day'] == str(i)] = train['trip_duration_hour'][train['dropoff_time_of_day'] == str(i)].mean()"
   ]
  },
  {
   "cell_type": "code",
   "execution_count": 105,
   "id": "fcf81fc0",
   "metadata": {},
   "outputs": [
    {
     "data": {
      "text/plain": [
       "0.8559877317265797"
      ]
     },
     "execution_count": 105,
     "metadata": {},
     "output_type": "execute_result"
    }
   ],
   "source": [
    "#Calculating Mean Absolute Error\n",
    "dropoff_error = sqrt(mse(test['trip_duration_hour'] , test['dropoff'] ))\n",
    "dropoff_error"
   ]
  },
  {
   "cell_type": "code",
   "execution_count": 106,
   "id": "3b02d8f8",
   "metadata": {},
   "outputs": [],
   "source": [
    "#The pick up time error is same as droppoff time error"
   ]
  },
  {
   "cell_type": "code",
   "execution_count": 107,
   "id": "0045a7a7",
   "metadata": {},
   "outputs": [
    {
     "data": {
      "text/html": [
       "<div>\n",
       "<style scoped>\n",
       "    .dataframe tbody tr th:only-of-type {\n",
       "        vertical-align: middle;\n",
       "    }\n",
       "\n",
       "    .dataframe tbody tr th {\n",
       "        vertical-align: top;\n",
       "    }\n",
       "\n",
       "    .dataframe thead th {\n",
       "        text-align: right;\n",
       "    }\n",
       "</style>\n",
       "<table border=\"1\" class=\"dataframe\">\n",
       "  <thead>\n",
       "    <tr style=\"text-align: right;\">\n",
       "      <th></th>\n",
       "      <th>trip_duration_hour</th>\n",
       "    </tr>\n",
       "    <tr>\n",
       "      <th>passenger_count</th>\n",
       "      <th></th>\n",
       "    </tr>\n",
       "  </thead>\n",
       "  <tbody>\n",
       "    <tr>\n",
       "      <th>0</th>\n",
       "      <td>0.130764</td>\n",
       "    </tr>\n",
       "    <tr>\n",
       "      <th>1</th>\n",
       "      <td>0.256818</td>\n",
       "    </tr>\n",
       "    <tr>\n",
       "      <th>2</th>\n",
       "      <td>0.275949</td>\n",
       "    </tr>\n",
       "    <tr>\n",
       "      <th>3</th>\n",
       "      <td>0.287829</td>\n",
       "    </tr>\n",
       "    <tr>\n",
       "      <th>4</th>\n",
       "      <td>0.278673</td>\n",
       "    </tr>\n",
       "    <tr>\n",
       "      <th>5</th>\n",
       "      <td>0.297818</td>\n",
       "    </tr>\n",
       "    <tr>\n",
       "      <th>6</th>\n",
       "      <td>0.296994</td>\n",
       "    </tr>\n",
       "    <tr>\n",
       "      <th>7</th>\n",
       "      <td>0.005278</td>\n",
       "    </tr>\n",
       "    <tr>\n",
       "      <th>9</th>\n",
       "      <td>0.155556</td>\n",
       "    </tr>\n",
       "  </tbody>\n",
       "</table>\n",
       "</div>"
      ],
      "text/plain": [
       "                 trip_duration_hour\n",
       "passenger_count                    \n",
       "0                          0.130764\n",
       "1                          0.256818\n",
       "2                          0.275949\n",
       "3                          0.287829\n",
       "4                          0.278673\n",
       "5                          0.297818\n",
       "6                          0.296994\n",
       "7                          0.005278\n",
       "9                          0.155556"
      ]
     },
     "execution_count": 107,
     "metadata": {},
     "output_type": "execute_result"
    }
   ],
   "source": [
    "#Mean trip duration with respect to the mean of passenger count\n",
    "pass_count = pd.pivot_table(train, values='trip_duration_hour', index = [\"passenger_count\"], aggfunc=np.mean)\n",
    "pass_count"
   ]
  },
  {
   "cell_type": "code",
   "execution_count": 108,
   "id": "0c9b615c",
   "metadata": {},
   "outputs": [],
   "source": [
    "#Creating an instance\n",
    "test['pass_count'] = 0\n",
    "\n",
    "#For every unique entry in passenger count\n",
    "for i in train['passenger_count'].unique():\n",
    "# Assign the mean value corresponding to unique entry\n",
    "  test['pass_count'][test['passenger_count'] == str(i)] = train['trip_duration_hour'][train['passenger_count'] == str(i)].mean()"
   ]
  },
  {
   "cell_type": "code",
   "execution_count": 109,
   "id": "898a975b",
   "metadata": {},
   "outputs": [
    {
     "data": {
      "text/plain": [
       "0.8956804722446243"
      ]
     },
     "execution_count": 109,
     "metadata": {},
     "output_type": "execute_result"
    }
   ],
   "source": [
    "pass_count_error = sqrt(mse(test['trip_duration_hour'] , test['pass_count'] ))\n",
    "pass_count_error"
   ]
  },
  {
   "cell_type": "code",
   "execution_count": 110,
   "id": "eb8d566a",
   "metadata": {},
   "outputs": [],
   "source": [
    "#The pass_count_error is more than both pickup and dropoff error. "
   ]
  },
  {
   "cell_type": "code",
   "execution_count": 111,
   "id": "f812fec2",
   "metadata": {},
   "outputs": [
    {
     "data": {
      "text/html": [
       "<div>\n",
       "<style scoped>\n",
       "    .dataframe tbody tr th:only-of-type {\n",
       "        vertical-align: middle;\n",
       "    }\n",
       "\n",
       "    .dataframe tbody tr th {\n",
       "        vertical-align: top;\n",
       "    }\n",
       "\n",
       "    .dataframe thead th {\n",
       "        text-align: right;\n",
       "    }\n",
       "</style>\n",
       "<table border=\"1\" class=\"dataframe\">\n",
       "  <thead>\n",
       "    <tr style=\"text-align: right;\">\n",
       "      <th></th>\n",
       "      <th>trip_duration_hour</th>\n",
       "    </tr>\n",
       "    <tr>\n",
       "      <th>store_and_fwd_flag</th>\n",
       "      <th></th>\n",
       "    </tr>\n",
       "  </thead>\n",
       "  <tbody>\n",
       "    <tr>\n",
       "      <th>N</th>\n",
       "      <td>0.264559</td>\n",
       "    </tr>\n",
       "    <tr>\n",
       "      <th>Y</th>\n",
       "      <td>0.303472</td>\n",
       "    </tr>\n",
       "  </tbody>\n",
       "</table>\n",
       "</div>"
      ],
      "text/plain": [
       "                    trip_duration_hour\n",
       "store_and_fwd_flag                    \n",
       "N                             0.264559\n",
       "Y                             0.303472"
      ]
     },
     "execution_count": 111,
     "metadata": {},
     "output_type": "execute_result"
    }
   ],
   "source": [
    "store_and_fwd = pd.pivot_table(train, values='trip_duration_hour', index = [\"store_and_fwd_flag\"], aggfunc=np.mean)\n",
    "store_and_fwd     "
   ]
  },
  {
   "cell_type": "code",
   "execution_count": 112,
   "id": "0e8130d9",
   "metadata": {},
   "outputs": [],
   "source": [
    "#Creating an instance\n",
    "test['store_and_fwd'] = 0\n",
    "\n",
    "# For every unique entry in pickup latitude\n",
    "for i in train['store_and_fwd_flag'].unique():\n",
    "  # Assign the mean value corresponding to unique entry\n",
    "  test['store_and_fwd'][test['store_and_fwd_flag'] == str(i)] = train['trip_duration_hour'][train['store_and_fwd_flag'] == str(i)].mean()"
   ]
  },
  {
   "cell_type": "code",
   "execution_count": 113,
   "id": "19fe2b38",
   "metadata": {},
   "outputs": [
    {
     "data": {
      "text/plain": [
       "0.8560916279789967"
      ]
     },
     "execution_count": 113,
     "metadata": {},
     "output_type": "execute_result"
    }
   ],
   "source": [
    "str_and_fwd_error = sqrt(mse(test['store_and_fwd'] , test['trip_duration_hour'] ))\n",
    "str_and_fwd_error"
   ]
  },
  {
   "cell_type": "code",
   "execution_count": 114,
   "id": "18b5938b",
   "metadata": {},
   "outputs": [
    {
     "data": {
      "text/html": [
       "<div>\n",
       "<style scoped>\n",
       "    .dataframe tbody tr th:only-of-type {\n",
       "        vertical-align: middle;\n",
       "    }\n",
       "\n",
       "    .dataframe tbody tr th {\n",
       "        vertical-align: top;\n",
       "    }\n",
       "\n",
       "    .dataframe thead th {\n",
       "        text-align: right;\n",
       "    }\n",
       "</style>\n",
       "<table border=\"1\" class=\"dataframe\">\n",
       "  <thead>\n",
       "    <tr style=\"text-align: right;\">\n",
       "      <th></th>\n",
       "      <th></th>\n",
       "      <th></th>\n",
       "      <th>trip_duration_hour</th>\n",
       "    </tr>\n",
       "    <tr>\n",
       "      <th>passenger_count</th>\n",
       "      <th>pickup_time_of_day</th>\n",
       "      <th>dropoff_time_of_day</th>\n",
       "      <th></th>\n",
       "    </tr>\n",
       "  </thead>\n",
       "  <tbody>\n",
       "    <tr>\n",
       "      <th rowspan=\"5\" valign=\"top\">0</th>\n",
       "      <th>Afternoon</th>\n",
       "      <th>Afternoon</th>\n",
       "      <td>0.380486</td>\n",
       "    </tr>\n",
       "    <tr>\n",
       "      <th rowspan=\"2\" valign=\"top\">Evening</th>\n",
       "      <th>Evening</th>\n",
       "      <td>0.074097</td>\n",
       "    </tr>\n",
       "    <tr>\n",
       "      <th>Late night</th>\n",
       "      <td>0.106944</td>\n",
       "    </tr>\n",
       "    <tr>\n",
       "      <th>Late night</th>\n",
       "      <th>Late night</th>\n",
       "      <td>0.026407</td>\n",
       "    </tr>\n",
       "    <tr>\n",
       "      <th>Morning</th>\n",
       "      <th>Afternoon</th>\n",
       "      <td>0.432222</td>\n",
       "    </tr>\n",
       "    <tr>\n",
       "      <th>...</th>\n",
       "      <th>...</th>\n",
       "      <th>...</th>\n",
       "      <td>...</td>\n",
       "    </tr>\n",
       "    <tr>\n",
       "      <th rowspan=\"3\" valign=\"top\">6</th>\n",
       "      <th rowspan=\"3\" valign=\"top\">Morning</th>\n",
       "      <th>Afternoon</th>\n",
       "      <td>0.376893</td>\n",
       "    </tr>\n",
       "    <tr>\n",
       "      <th>Late night</th>\n",
       "      <td>16.731944</td>\n",
       "    </tr>\n",
       "    <tr>\n",
       "      <th>Morning</th>\n",
       "      <td>0.264789</td>\n",
       "    </tr>\n",
       "    <tr>\n",
       "      <th>7</th>\n",
       "      <th>Morning</th>\n",
       "      <th>Morning</th>\n",
       "      <td>0.005278</td>\n",
       "    </tr>\n",
       "    <tr>\n",
       "      <th>9</th>\n",
       "      <th>Morning</th>\n",
       "      <th>Morning</th>\n",
       "      <td>0.155556</td>\n",
       "    </tr>\n",
       "  </tbody>\n",
       "</table>\n",
       "<p>76 rows × 1 columns</p>\n",
       "</div>"
      ],
      "text/plain": [
       "                                                        trip_duration_hour\n",
       "passenger_count pickup_time_of_day dropoff_time_of_day                    \n",
       "0               Afternoon          Afternoon                      0.380486\n",
       "                Evening            Evening                        0.074097\n",
       "                                   Late night                     0.106944\n",
       "                Late night         Late night                     0.026407\n",
       "                Morning            Afternoon                      0.432222\n",
       "...                                                                    ...\n",
       "6               Morning            Afternoon                      0.376893\n",
       "                                   Late night                    16.731944\n",
       "                                   Morning                        0.264789\n",
       "7               Morning            Morning                        0.005278\n",
       "9               Morning            Morning                        0.155556\n",
       "\n",
       "[76 rows x 1 columns]"
      ]
     },
     "execution_count": 114,
     "metadata": {},
     "output_type": "execute_result"
    }
   ],
   "source": [
    "combo = pd.pivot_table(train, values = 'trip_duration_hour', index = ['passenger_count','pickup_time_of_day','dropoff_time_of_day'], aggfunc = np.mean)\n",
    "combo"
   ]
  },
  {
   "cell_type": "code",
   "execution_count": 116,
   "id": "6b51e66e",
   "metadata": {},
   "outputs": [],
   "source": [
    "#Conclusion\n",
    "# 1.The simple mean error of trip duration hour is 0.87726 which is almost equal to rmse of pickup time 0.87716 and drofoff time of the day 0.87717. Whereas the str_and_fwd_error is 0.87726.\n",
    "\n",
    "# 2.The rmse of passanger count is slightly higher 0.91623.\n",
    "\n",
    "# 3.The passenger count error is more than both pickup and dropoff error. "
   ]
  }
 ],
 "metadata": {
  "kernelspec": {
   "display_name": "Python 3 (ipykernel)",
   "language": "python",
   "name": "python3"
  },
  "language_info": {
   "codemirror_mode": {
    "name": "ipython",
    "version": 3
   },
   "file_extension": ".py",
   "mimetype": "text/x-python",
   "name": "python",
   "nbconvert_exporter": "python",
   "pygments_lexer": "ipython3",
   "version": "3.10.9"
  }
 },
 "nbformat": 4,
 "nbformat_minor": 5
}
