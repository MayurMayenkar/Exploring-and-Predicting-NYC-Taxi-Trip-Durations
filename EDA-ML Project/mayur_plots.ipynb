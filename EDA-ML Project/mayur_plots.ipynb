{
 "cells": [
  {
   "cell_type": "code",
   "execution_count": 2,
   "id": "a53146f3",
   "metadata": {},
   "outputs": [],
   "source": [
    "#Importing the required libraries\n",
    "import pandas as pd\n",
    "import numpy as np\n",
    "import matplotlib.pyplot as plt"
   ]
  },
  {
   "cell_type": "code",
   "execution_count": 3,
   "id": "e44bd714",
   "metadata": {},
   "outputs": [
    {
     "data": {
      "text/html": [
       "<div>\n",
       "<style scoped>\n",
       "    .dataframe tbody tr th:only-of-type {\n",
       "        vertical-align: middle;\n",
       "    }\n",
       "\n",
       "    .dataframe tbody tr th {\n",
       "        vertical-align: top;\n",
       "    }\n",
       "\n",
       "    .dataframe thead th {\n",
       "        text-align: right;\n",
       "    }\n",
       "</style>\n",
       "<table border=\"1\" class=\"dataframe\">\n",
       "  <thead>\n",
       "    <tr style=\"text-align: right;\">\n",
       "      <th></th>\n",
       "      <th>id</th>\n",
       "      <th>vendor_id</th>\n",
       "      <th>pickup_datetime</th>\n",
       "      <th>dropoff_datetime</th>\n",
       "      <th>passenger_count</th>\n",
       "      <th>pickup_longitude</th>\n",
       "      <th>pickup_latitude</th>\n",
       "      <th>dropoff_longitude</th>\n",
       "      <th>dropoff_latitude</th>\n",
       "      <th>store_and_fwd_flag</th>\n",
       "      <th>trip_duration</th>\n",
       "    </tr>\n",
       "  </thead>\n",
       "  <tbody>\n",
       "    <tr>\n",
       "      <th>0</th>\n",
       "      <td>id1080784</td>\n",
       "      <td>2</td>\n",
       "      <td>2016-02-29 16:40:21</td>\n",
       "      <td>2016-02-29 16:47:01</td>\n",
       "      <td>1</td>\n",
       "      <td>-73.953918</td>\n",
       "      <td>40.778873</td>\n",
       "      <td>-73.963875</td>\n",
       "      <td>40.771164</td>\n",
       "      <td>N</td>\n",
       "      <td>400</td>\n",
       "    </tr>\n",
       "    <tr>\n",
       "      <th>1</th>\n",
       "      <td>id0889885</td>\n",
       "      <td>1</td>\n",
       "      <td>2016-03-11 23:35:37</td>\n",
       "      <td>2016-03-11 23:53:57</td>\n",
       "      <td>2</td>\n",
       "      <td>-73.988312</td>\n",
       "      <td>40.731743</td>\n",
       "      <td>-73.994751</td>\n",
       "      <td>40.694931</td>\n",
       "      <td>N</td>\n",
       "      <td>1100</td>\n",
       "    </tr>\n",
       "    <tr>\n",
       "      <th>2</th>\n",
       "      <td>id0857912</td>\n",
       "      <td>2</td>\n",
       "      <td>2016-02-21 17:59:33</td>\n",
       "      <td>2016-02-21 18:26:48</td>\n",
       "      <td>2</td>\n",
       "      <td>-73.997314</td>\n",
       "      <td>40.721458</td>\n",
       "      <td>-73.948029</td>\n",
       "      <td>40.774918</td>\n",
       "      <td>N</td>\n",
       "      <td>1635</td>\n",
       "    </tr>\n",
       "    <tr>\n",
       "      <th>3</th>\n",
       "      <td>id3744273</td>\n",
       "      <td>2</td>\n",
       "      <td>2016-01-05 09:44:31</td>\n",
       "      <td>2016-01-05 10:03:32</td>\n",
       "      <td>6</td>\n",
       "      <td>-73.961670</td>\n",
       "      <td>40.759720</td>\n",
       "      <td>-73.956779</td>\n",
       "      <td>40.780628</td>\n",
       "      <td>N</td>\n",
       "      <td>1141</td>\n",
       "    </tr>\n",
       "    <tr>\n",
       "      <th>4</th>\n",
       "      <td>id0232939</td>\n",
       "      <td>1</td>\n",
       "      <td>2016-02-17 06:42:23</td>\n",
       "      <td>2016-02-17 06:56:31</td>\n",
       "      <td>1</td>\n",
       "      <td>-74.017120</td>\n",
       "      <td>40.708469</td>\n",
       "      <td>-73.988182</td>\n",
       "      <td>40.740631</td>\n",
       "      <td>N</td>\n",
       "      <td>848</td>\n",
       "    </tr>\n",
       "  </tbody>\n",
       "</table>\n",
       "</div>"
      ],
      "text/plain": [
       "          id  vendor_id      pickup_datetime     dropoff_datetime  \\\n",
       "0  id1080784          2  2016-02-29 16:40:21  2016-02-29 16:47:01   \n",
       "1  id0889885          1  2016-03-11 23:35:37  2016-03-11 23:53:57   \n",
       "2  id0857912          2  2016-02-21 17:59:33  2016-02-21 18:26:48   \n",
       "3  id3744273          2  2016-01-05 09:44:31  2016-01-05 10:03:32   \n",
       "4  id0232939          1  2016-02-17 06:42:23  2016-02-17 06:56:31   \n",
       "\n",
       "   passenger_count  pickup_longitude  pickup_latitude  dropoff_longitude  \\\n",
       "0                1        -73.953918        40.778873         -73.963875   \n",
       "1                2        -73.988312        40.731743         -73.994751   \n",
       "2                2        -73.997314        40.721458         -73.948029   \n",
       "3                6        -73.961670        40.759720         -73.956779   \n",
       "4                1        -74.017120        40.708469         -73.988182   \n",
       "\n",
       "   dropoff_latitude store_and_fwd_flag  trip_duration  \n",
       "0         40.771164                  N            400  \n",
       "1         40.694931                  N           1100  \n",
       "2         40.774918                  N           1635  \n",
       "3         40.780628                  N           1141  \n",
       "4         40.740631                  N            848  "
      ]
     },
     "execution_count": 3,
     "metadata": {},
     "output_type": "execute_result"
    }
   ],
   "source": [
    "#Reading the csv file\n",
    "data = pd.read_csv(\"nyc_taxi_trip_duration.csv\")\n",
    "data.head()"
   ]
  },
  {
   "cell_type": "code",
   "execution_count": 5,
   "id": "9315b1f7",
   "metadata": {},
   "outputs": [
    {
     "data": {
      "text/plain": [
       "1    0.709447\n",
       "2    0.144102\n",
       "5    0.053373\n",
       "3    0.040712\n",
       "6    0.033054\n",
       "4    0.019264\n",
       "0    0.000045\n",
       "7    0.000001\n",
       "9    0.000001\n",
       "Name: passenger_count, dtype: float64"
      ]
     },
     "execution_count": 5,
     "metadata": {},
     "output_type": "execute_result"
    }
   ],
   "source": [
    "data[\"passenger_count\"].value_counts(10)"
   ]
  },
  {
   "cell_type": "code",
   "execution_count": 6,
   "id": "bfe666ae",
   "metadata": {},
   "outputs": [],
   "source": [
    "data = data.loc[~(data['passenger_count'] == 0)]\n",
    "data = data.loc[~(data['passenger_count'] == 7)]\n",
    "data = data.loc[~(data['passenger_count'] == 9)]\n"
   ]
  },
  {
   "cell_type": "code",
   "execution_count": 8,
   "id": "6c4e0731",
   "metadata": {},
   "outputs": [],
   "source": [
    "data['trip_duration_hour'] = data['trip_duration'].apply(lambda x: x/3600)\n",
    "data.drop(columns=['trip_duration'], inplace=True)"
   ]
  },
  {
   "cell_type": "code",
   "execution_count": 9,
   "id": "4d17545b",
   "metadata": {},
   "outputs": [
    {
     "data": {
      "text/plain": [
       "id                     object\n",
       "vendor_id               int64\n",
       "pickup_datetime        object\n",
       "dropoff_datetime       object\n",
       "passenger_count         int64\n",
       "pickup_longitude      float64\n",
       "pickup_latitude       float64\n",
       "dropoff_longitude     float64\n",
       "dropoff_latitude      float64\n",
       "store_and_fwd_flag     object\n",
       "trip_duration_hour    float64\n",
       "dtype: object"
      ]
     },
     "execution_count": 9,
     "metadata": {},
     "output_type": "execute_result"
    }
   ],
   "source": [
    "data.dtypes"
   ]
  },
  {
   "cell_type": "code",
   "execution_count": null,
   "id": "cc76152f",
   "metadata": {},
   "outputs": [],
   "source": [
    "# K-NEAREST NEIGHBOURS MODEL"
   ]
  },
  {
   "cell_type": "code",
   "execution_count": 10,
   "id": "12bc1ef4",
   "metadata": {},
   "outputs": [],
   "source": [
    "custom_data=data.sample(100000)"
   ]
  },
  {
   "cell_type": "code",
   "execution_count": 12,
   "id": "a0279a10",
   "metadata": {},
   "outputs": [],
   "source": [
    "sample_data=custom_data "
   ]
  },
  {
   "cell_type": "code",
   "execution_count": 13,
   "id": "ae301ac1",
   "metadata": {},
   "outputs": [],
   "source": [
    "#Creating independent and dependent variables\n",
    "a = sample_data.drop([\"id\",\"vendor_id\",\"trip_duration_hour\",\"pickup_datetime\",\"dropoff_datetime\",\"store_and_fwd_flag\"],axis = 1)\n",
    "b = sample_data[\"trip_duration_hour\"]"
   ]
  },
  {
   "cell_type": "code",
   "execution_count": 14,
   "id": "5464fcec",
   "metadata": {},
   "outputs": [
    {
     "data": {
      "text/plain": [
       "id                     object\n",
       "vendor_id               int64\n",
       "pickup_datetime        object\n",
       "dropoff_datetime       object\n",
       "passenger_count         int64\n",
       "pickup_longitude      float64\n",
       "pickup_latitude       float64\n",
       "dropoff_longitude     float64\n",
       "dropoff_latitude      float64\n",
       "store_and_fwd_flag     object\n",
       "trip_duration_hour    float64\n",
       "dtype: object"
      ]
     },
     "execution_count": 14,
     "metadata": {},
     "output_type": "execute_result"
    }
   ],
   "source": [
    "sample_data.dtypes"
   ]
  },
  {
   "cell_type": "code",
   "execution_count": 16,
   "id": "e65f3df7",
   "metadata": {},
   "outputs": [
    {
     "data": {
      "text/plain": [
       "N    99438\n",
       "Y      562\n",
       "Name: store_and_fwd_flag, dtype: int64"
      ]
     },
     "execution_count": 16,
     "metadata": {},
     "output_type": "execute_result"
    }
   ],
   "source": [
    "#Converting the store and fwd flag to int type\n",
    "sample_data[\"store_and_fwd_flag\"].value_counts()"
   ]
  },
  {
   "cell_type": "code",
   "execution_count": 17,
   "id": "e6ddd2ae",
   "metadata": {},
   "outputs": [
    {
     "data": {
      "text/html": [
       "<div>\n",
       "<style scoped>\n",
       "    .dataframe tbody tr th:only-of-type {\n",
       "        vertical-align: middle;\n",
       "    }\n",
       "\n",
       "    .dataframe tbody tr th {\n",
       "        vertical-align: top;\n",
       "    }\n",
       "\n",
       "    .dataframe thead th {\n",
       "        text-align: right;\n",
       "    }\n",
       "</style>\n",
       "<table border=\"1\" class=\"dataframe\">\n",
       "  <thead>\n",
       "    <tr style=\"text-align: right;\">\n",
       "      <th></th>\n",
       "      <th>pickup_longitude</th>\n",
       "      <th>pickup_latitude</th>\n",
       "      <th>dropoff_longitude</th>\n",
       "      <th>dropoff_latitude</th>\n",
       "      <th>passenger_count_1</th>\n",
       "      <th>passenger_count_2</th>\n",
       "      <th>passenger_count_3</th>\n",
       "      <th>passenger_count_4</th>\n",
       "      <th>passenger_count_5</th>\n",
       "      <th>passenger_count_6</th>\n",
       "    </tr>\n",
       "  </thead>\n",
       "  <tbody>\n",
       "    <tr>\n",
       "      <th>70003</th>\n",
       "      <td>-73.870544</td>\n",
       "      <td>40.733887</td>\n",
       "      <td>-73.921608</td>\n",
       "      <td>40.737782</td>\n",
       "      <td>0</td>\n",
       "      <td>0</td>\n",
       "      <td>1</td>\n",
       "      <td>0</td>\n",
       "      <td>0</td>\n",
       "      <td>0</td>\n",
       "    </tr>\n",
       "    <tr>\n",
       "      <th>37554</th>\n",
       "      <td>-73.966125</td>\n",
       "      <td>40.758549</td>\n",
       "      <td>-73.978600</td>\n",
       "      <td>40.754837</td>\n",
       "      <td>0</td>\n",
       "      <td>1</td>\n",
       "      <td>0</td>\n",
       "      <td>0</td>\n",
       "      <td>0</td>\n",
       "      <td>0</td>\n",
       "    </tr>\n",
       "    <tr>\n",
       "      <th>406110</th>\n",
       "      <td>-73.994759</td>\n",
       "      <td>40.721264</td>\n",
       "      <td>-73.967972</td>\n",
       "      <td>40.793957</td>\n",
       "      <td>0</td>\n",
       "      <td>0</td>\n",
       "      <td>0</td>\n",
       "      <td>0</td>\n",
       "      <td>1</td>\n",
       "      <td>0</td>\n",
       "    </tr>\n",
       "    <tr>\n",
       "      <th>727682</th>\n",
       "      <td>-73.975861</td>\n",
       "      <td>40.754253</td>\n",
       "      <td>-73.979607</td>\n",
       "      <td>40.766972</td>\n",
       "      <td>0</td>\n",
       "      <td>1</td>\n",
       "      <td>0</td>\n",
       "      <td>0</td>\n",
       "      <td>0</td>\n",
       "      <td>0</td>\n",
       "    </tr>\n",
       "    <tr>\n",
       "      <th>342920</th>\n",
       "      <td>-73.982788</td>\n",
       "      <td>40.751450</td>\n",
       "      <td>-73.952263</td>\n",
       "      <td>40.771221</td>\n",
       "      <td>0</td>\n",
       "      <td>1</td>\n",
       "      <td>0</td>\n",
       "      <td>0</td>\n",
       "      <td>0</td>\n",
       "      <td>0</td>\n",
       "    </tr>\n",
       "  </tbody>\n",
       "</table>\n",
       "</div>"
      ],
      "text/plain": [
       "        pickup_longitude  pickup_latitude  dropoff_longitude  \\\n",
       "70003         -73.870544        40.733887         -73.921608   \n",
       "37554         -73.966125        40.758549         -73.978600   \n",
       "406110        -73.994759        40.721264         -73.967972   \n",
       "727682        -73.975861        40.754253         -73.979607   \n",
       "342920        -73.982788        40.751450         -73.952263   \n",
       "\n",
       "        dropoff_latitude  passenger_count_1  passenger_count_2  \\\n",
       "70003          40.737782                  0                  0   \n",
       "37554          40.754837                  0                  1   \n",
       "406110         40.793957                  0                  0   \n",
       "727682         40.766972                  0                  1   \n",
       "342920         40.771221                  0                  1   \n",
       "\n",
       "        passenger_count_3  passenger_count_4  passenger_count_5  \\\n",
       "70003                   1                  0                  0   \n",
       "37554                   0                  0                  0   \n",
       "406110                  0                  0                  1   \n",
       "727682                  0                  0                  0   \n",
       "342920                  0                  0                  0   \n",
       "\n",
       "        passenger_count_6  \n",
       "70003                   0  \n",
       "37554                   0  \n",
       "406110                  0  \n",
       "727682                  0  \n",
       "342920                  0  "
      ]
     },
     "execution_count": 17,
     "metadata": {},
     "output_type": "execute_result"
    }
   ],
   "source": [
    "df1 = pd.concat([sample_data, pd.get_dummies(sample_data[['passenger_count']].astype('str'))], axis=1)\n",
    "try:\n",
    "    df1.drop(['id','vendor_id','trip_duration_hour','pickup_datetime','dropoff_datetime','store_and_fwd_flag','passenger_count'], axis=1, inplace=True)\n",
    "except KeyError:\n",
    "    pass\n",
    "\n",
    "df1.head()"
   ]
  },
  {
   "cell_type": "code",
   "execution_count": 18,
   "id": "0ed27d50",
   "metadata": {},
   "outputs": [
    {
     "data": {
      "text/plain": [
       "((100000, 10), (100000,))"
      ]
     },
     "execution_count": 18,
     "metadata": {},
     "output_type": "execute_result"
    }
   ],
   "source": [
    "#Seperate features and target\n",
    "x = df1\n",
    "y = sample_data[\"trip_duration_hour\"]\n",
    "x.shape,y.shape"
   ]
  },
  {
   "cell_type": "code",
   "execution_count": 19,
   "id": "dfc9205a",
   "metadata": {},
   "outputs": [],
   "source": [
    "#Scaling the data(using MinMax Scaler)\n",
    "from sklearn.preprocessing import MinMaxScaler\n",
    "scaler = MinMaxScaler()\n",
    "x_scaled = scaler.fit_transform(x)\n"
   ]
  },
  {
   "cell_type": "code",
   "execution_count": 20,
   "id": "efb07dc1",
   "metadata": {},
   "outputs": [
    {
     "data": {
      "text/html": [
       "<div>\n",
       "<style scoped>\n",
       "    .dataframe tbody tr th:only-of-type {\n",
       "        vertical-align: middle;\n",
       "    }\n",
       "\n",
       "    .dataframe tbody tr th {\n",
       "        vertical-align: top;\n",
       "    }\n",
       "\n",
       "    .dataframe thead th {\n",
       "        text-align: right;\n",
       "    }\n",
       "</style>\n",
       "<table border=\"1\" class=\"dataframe\">\n",
       "  <thead>\n",
       "    <tr style=\"text-align: right;\">\n",
       "      <th></th>\n",
       "      <th>pickup_longitude</th>\n",
       "      <th>pickup_latitude</th>\n",
       "      <th>dropoff_longitude</th>\n",
       "      <th>dropoff_latitude</th>\n",
       "      <th>passenger_count_1</th>\n",
       "      <th>passenger_count_2</th>\n",
       "      <th>passenger_count_3</th>\n",
       "      <th>passenger_count_4</th>\n",
       "      <th>passenger_count_5</th>\n",
       "      <th>passenger_count_6</th>\n",
       "    </tr>\n",
       "  </thead>\n",
       "  <tbody>\n",
       "    <tr>\n",
       "      <th>0</th>\n",
       "      <td>0.732446</td>\n",
       "      <td>0.607907</td>\n",
       "      <td>0.341378</td>\n",
       "      <td>0.415953</td>\n",
       "      <td>0.0</td>\n",
       "      <td>0.0</td>\n",
       "      <td>1.0</td>\n",
       "      <td>0.0</td>\n",
       "      <td>0.0</td>\n",
       "      <td>0.0</td>\n",
       "    </tr>\n",
       "    <tr>\n",
       "      <th>1</th>\n",
       "      <td>0.681263</td>\n",
       "      <td>0.626396</td>\n",
       "      <td>0.311361</td>\n",
       "      <td>0.433067</td>\n",
       "      <td>0.0</td>\n",
       "      <td>1.0</td>\n",
       "      <td>0.0</td>\n",
       "      <td>0.0</td>\n",
       "      <td>0.0</td>\n",
       "      <td>0.0</td>\n",
       "    </tr>\n",
       "    <tr>\n",
       "      <th>2</th>\n",
       "      <td>0.665930</td>\n",
       "      <td>0.598444</td>\n",
       "      <td>0.316958</td>\n",
       "      <td>0.472321</td>\n",
       "      <td>0.0</td>\n",
       "      <td>0.0</td>\n",
       "      <td>0.0</td>\n",
       "      <td>0.0</td>\n",
       "      <td>1.0</td>\n",
       "      <td>0.0</td>\n",
       "    </tr>\n",
       "    <tr>\n",
       "      <th>3</th>\n",
       "      <td>0.676050</td>\n",
       "      <td>0.623176</td>\n",
       "      <td>0.310830</td>\n",
       "      <td>0.445244</td>\n",
       "      <td>0.0</td>\n",
       "      <td>1.0</td>\n",
       "      <td>0.0</td>\n",
       "      <td>0.0</td>\n",
       "      <td>0.0</td>\n",
       "      <td>0.0</td>\n",
       "    </tr>\n",
       "    <tr>\n",
       "      <th>4</th>\n",
       "      <td>0.672340</td>\n",
       "      <td>0.621074</td>\n",
       "      <td>0.325232</td>\n",
       "      <td>0.449508</td>\n",
       "      <td>0.0</td>\n",
       "      <td>1.0</td>\n",
       "      <td>0.0</td>\n",
       "      <td>0.0</td>\n",
       "      <td>0.0</td>\n",
       "      <td>0.0</td>\n",
       "    </tr>\n",
       "  </tbody>\n",
       "</table>\n",
       "</div>"
      ],
      "text/plain": [
       "   pickup_longitude  pickup_latitude  dropoff_longitude  dropoff_latitude  \\\n",
       "0          0.732446         0.607907           0.341378          0.415953   \n",
       "1          0.681263         0.626396           0.311361          0.433067   \n",
       "2          0.665930         0.598444           0.316958          0.472321   \n",
       "3          0.676050         0.623176           0.310830          0.445244   \n",
       "4          0.672340         0.621074           0.325232          0.449508   \n",
       "\n",
       "   passenger_count_1  passenger_count_2  passenger_count_3  passenger_count_4  \\\n",
       "0                0.0                0.0                1.0                0.0   \n",
       "1                0.0                1.0                0.0                0.0   \n",
       "2                0.0                0.0                0.0                0.0   \n",
       "3                0.0                1.0                0.0                0.0   \n",
       "4                0.0                1.0                0.0                0.0   \n",
       "\n",
       "   passenger_count_5  passenger_count_6  \n",
       "0                0.0                0.0  \n",
       "1                0.0                0.0  \n",
       "2                1.0                0.0  \n",
       "3                0.0                0.0  \n",
       "4                0.0                0.0  "
      ]
     },
     "execution_count": 20,
     "metadata": {},
     "output_type": "execute_result"
    }
   ],
   "source": [
    "#Creating dataframe\n",
    "x = pd.DataFrame(x_scaled,columns=x.columns)\n",
    "x.head()"
   ]
  },
  {
   "cell_type": "code",
   "execution_count": 21,
   "id": "41ad5ded",
   "metadata": {},
   "outputs": [],
   "source": [
    "#Scaling the data(using MinMax Scaler)\n",
    "from sklearn.preprocessing import MinMaxScaler\n",
    "scaler = MinMaxScaler()\n",
    "x_scaled = scaler.fit_transform(x)"
   ]
  },
  {
   "cell_type": "code",
   "execution_count": 22,
   "id": "833c613f",
   "metadata": {},
   "outputs": [
    {
     "data": {
      "text/html": [
       "<div>\n",
       "<style scoped>\n",
       "    .dataframe tbody tr th:only-of-type {\n",
       "        vertical-align: middle;\n",
       "    }\n",
       "\n",
       "    .dataframe tbody tr th {\n",
       "        vertical-align: top;\n",
       "    }\n",
       "\n",
       "    .dataframe thead th {\n",
       "        text-align: right;\n",
       "    }\n",
       "</style>\n",
       "<table border=\"1\" class=\"dataframe\">\n",
       "  <thead>\n",
       "    <tr style=\"text-align: right;\">\n",
       "      <th></th>\n",
       "      <th>pickup_longitude</th>\n",
       "      <th>pickup_latitude</th>\n",
       "      <th>dropoff_longitude</th>\n",
       "      <th>dropoff_latitude</th>\n",
       "      <th>passenger_count_1</th>\n",
       "      <th>passenger_count_2</th>\n",
       "      <th>passenger_count_3</th>\n",
       "      <th>passenger_count_4</th>\n",
       "      <th>passenger_count_5</th>\n",
       "      <th>passenger_count_6</th>\n",
       "    </tr>\n",
       "  </thead>\n",
       "  <tbody>\n",
       "    <tr>\n",
       "      <th>0</th>\n",
       "      <td>0.732446</td>\n",
       "      <td>0.607907</td>\n",
       "      <td>0.341378</td>\n",
       "      <td>0.415953</td>\n",
       "      <td>0.0</td>\n",
       "      <td>0.0</td>\n",
       "      <td>1.0</td>\n",
       "      <td>0.0</td>\n",
       "      <td>0.0</td>\n",
       "      <td>0.0</td>\n",
       "    </tr>\n",
       "    <tr>\n",
       "      <th>1</th>\n",
       "      <td>0.681263</td>\n",
       "      <td>0.626396</td>\n",
       "      <td>0.311361</td>\n",
       "      <td>0.433067</td>\n",
       "      <td>0.0</td>\n",
       "      <td>1.0</td>\n",
       "      <td>0.0</td>\n",
       "      <td>0.0</td>\n",
       "      <td>0.0</td>\n",
       "      <td>0.0</td>\n",
       "    </tr>\n",
       "    <tr>\n",
       "      <th>2</th>\n",
       "      <td>0.665930</td>\n",
       "      <td>0.598444</td>\n",
       "      <td>0.316958</td>\n",
       "      <td>0.472321</td>\n",
       "      <td>0.0</td>\n",
       "      <td>0.0</td>\n",
       "      <td>0.0</td>\n",
       "      <td>0.0</td>\n",
       "      <td>1.0</td>\n",
       "      <td>0.0</td>\n",
       "    </tr>\n",
       "    <tr>\n",
       "      <th>3</th>\n",
       "      <td>0.676050</td>\n",
       "      <td>0.623176</td>\n",
       "      <td>0.310830</td>\n",
       "      <td>0.445244</td>\n",
       "      <td>0.0</td>\n",
       "      <td>1.0</td>\n",
       "      <td>0.0</td>\n",
       "      <td>0.0</td>\n",
       "      <td>0.0</td>\n",
       "      <td>0.0</td>\n",
       "    </tr>\n",
       "    <tr>\n",
       "      <th>4</th>\n",
       "      <td>0.672340</td>\n",
       "      <td>0.621074</td>\n",
       "      <td>0.325232</td>\n",
       "      <td>0.449508</td>\n",
       "      <td>0.0</td>\n",
       "      <td>1.0</td>\n",
       "      <td>0.0</td>\n",
       "      <td>0.0</td>\n",
       "      <td>0.0</td>\n",
       "      <td>0.0</td>\n",
       "    </tr>\n",
       "  </tbody>\n",
       "</table>\n",
       "</div>"
      ],
      "text/plain": [
       "   pickup_longitude  pickup_latitude  dropoff_longitude  dropoff_latitude  \\\n",
       "0          0.732446         0.607907           0.341378          0.415953   \n",
       "1          0.681263         0.626396           0.311361          0.433067   \n",
       "2          0.665930         0.598444           0.316958          0.472321   \n",
       "3          0.676050         0.623176           0.310830          0.445244   \n",
       "4          0.672340         0.621074           0.325232          0.449508   \n",
       "\n",
       "   passenger_count_1  passenger_count_2  passenger_count_3  passenger_count_4  \\\n",
       "0                0.0                0.0                1.0                0.0   \n",
       "1                0.0                1.0                0.0                0.0   \n",
       "2                0.0                0.0                0.0                0.0   \n",
       "3                0.0                1.0                0.0                0.0   \n",
       "4                0.0                1.0                0.0                0.0   \n",
       "\n",
       "   passenger_count_5  passenger_count_6  \n",
       "0                0.0                0.0  \n",
       "1                0.0                0.0  \n",
       "2                1.0                0.0  \n",
       "3                0.0                0.0  \n",
       "4                0.0                0.0  "
      ]
     },
     "execution_count": 22,
     "metadata": {},
     "output_type": "execute_result"
    }
   ],
   "source": [
    "x = pd.DataFrame(x_scaled,columns=x.columns)\n",
    "x.head()"
   ]
  },
  {
   "cell_type": "code",
   "execution_count": 23,
   "id": "6c04f0eb",
   "metadata": {},
   "outputs": [],
   "source": [
    "#Importing the train_test_split from sklearn\n",
    "from sklearn.model_selection import train_test_split\n",
    "train_x,test_x,train_y,test_y = train_test_split(x,y,random_state=56)"
   ]
  },
  {
   "cell_type": "code",
   "execution_count": 24,
   "id": "6e65e42f",
   "metadata": {},
   "outputs": [],
   "source": [
    "#Importing knn regressor and mse metrics\n",
    "from sklearn.neighbors import KNeighborsRegressor as KNN\n",
    "from sklearn.metrics import mean_squared_error as mse\n",
    "from math import sqrt"
   ]
  },
  {
   "cell_type": "code",
   "execution_count": 25,
   "id": "96749f06",
   "metadata": {},
   "outputs": [
    {
     "name": "stdout",
     "output_type": "stream",
     "text": [
      "test rmse  0.9111059027967666\n"
     ]
    }
   ],
   "source": [
    "#Creating instance of KNN\n",
    "reg = KNN(n_neighbors = 10)\n",
    "#Fitting the model\n",
    "reg.fit(train_x,train_y)\n",
    "#Predicting over the train set and calculating F1\n",
    "test_predict = reg.predict(test_x)\n",
    "k= sqrt(mse(test_predict,test_y))\n",
    "print(\"test rmse \", k)"
   ]
  },
  {
   "cell_type": "code",
   "execution_count": null,
   "id": "a18271ee",
   "metadata": {},
   "outputs": [],
   "source": [
    "#Finding the value of k using elbow method"
   ]
  },
  {
   "cell_type": "code",
   "execution_count": 30,
   "id": "7d794776",
   "metadata": {},
   "outputs": [],
   "source": [
    "def elbow(k):\n",
    "    test_rmse=[]\n",
    "    for i in k:\n",
    "        reg = KNN(n_neighbors=i)\n",
    "        reg.fit(train_x,train_y)\n",
    "        tmp = reg.predict(test_x)\n",
    "        tmp = sqrt(mse(tmp,test_y))\n",
    "        test_rmse.append(tmp)\n",
    "        \n",
    "    return test_rmse    "
   ]
  },
  {
   "cell_type": "code",
   "execution_count": 29,
   "id": "1985651e",
   "metadata": {},
   "outputs": [],
   "source": [
    "k = range(1,50)"
   ]
  },
  {
   "cell_type": "code",
   "execution_count": 28,
   "id": "0342dd6e",
   "metadata": {},
   "outputs": [],
   "source": [
    "test = elbow(k)"
   ]
  },
  {
   "cell_type": "code",
   "execution_count": 31,
   "id": "730ce9dc",
   "metadata": {},
   "outputs": [
    {
     "data": {
      "text/plain": [
       "Text(0.5, 1.0, 'elbow curve for test')"
      ]
     },
     "execution_count": 31,
     "metadata": {},
     "output_type": "execute_result"
    },
    {
     "data": {
      "image/png": "[encoded data removed]",
      "text/plain": [
       "<Figure size 640x480 with 1 Axes>"
      ]
     },
     "metadata": {},
     "output_type": "display_data"
    }
   ],
   "source": [
    "#Plotting the curves\n",
    "plt.plot(k,test)\n",
    "plt.xlabel(\"k neighbors\")\n",
    "plt.ylabel(\"test mean squared error\")\n",
    "plt.title(\"elbow curve for test\")"
   ]
  },
  {
   "cell_type": "code",
   "execution_count": 41,
   "id": "62804e1f",
   "metadata": {},
   "outputs": [
    {
     "name": "stdout",
     "output_type": "stream",
     "text": [
      "test rmse  0.9491402996376104\n"
     ]
    }
   ],
   "source": [
    "#Creating instance of KNN\n",
    "reg = KNN(n_neighbors =5)\n",
    "#Fitting the model\n",
    "reg.fit(train_x,train_y)\n",
    "#Predicting over the train set and calculating F1\n",
    "test_predict = reg.predict(test_x)\n",
    "k= sqrt(mse(test_predict,test_y))\n",
    "print(\"test rmse \", k)"
   ]
  },
  {
   "cell_type": "code",
   "execution_count": null,
   "id": "667ccf2f",
   "metadata": {},
   "outputs": [],
   "source": [
    "The best value of k is 10"
   ]
  },
  {
   "cell_type": "code",
   "execution_count": 33,
   "id": "5a1699a2",
   "metadata": {},
   "outputs": [
    {
     "data": {
      "text/plain": [
       "23.53389524192241"
      ]
     },
     "execution_count": 33,
     "metadata": {},
     "output_type": "execute_result"
    }
   ],
   "source": [
    "knn_train_score = reg.score(train_x,train_y)\n",
    "knn_train_score*100"
   ]
  },
  {
   "cell_type": "code",
   "execution_count": 34,
   "id": "fe540958",
   "metadata": {},
   "outputs": [
    {
     "data": {
      "text/plain": [
       "-15.1667590770876"
      ]
     },
     "execution_count": 34,
     "metadata": {},
     "output_type": "execute_result"
    }
   ],
   "source": [
    "knn_test_score = reg.score(test_x,test_y)\n",
    "knn_test_score*100"
   ]
  },
  {
   "cell_type": "code",
   "execution_count": 37,
   "id": "d31c4abd",
   "metadata": {},
   "outputs": [
    {
     "name": "stdout",
     "output_type": "stream",
     "text": [
      "Stored 'knn_test_score' (float64)\n"
     ]
    }
   ],
   "source": [
    "#Storing the value of train score which can be used later\n",
    "%store knn_test_score"
   ]
  },
  {
   "cell_type": "code",
   "execution_count": 38,
   "id": "5799aa72",
   "metadata": {},
   "outputs": [
    {
     "name": "stdout",
     "output_type": "stream",
     "text": [
      "Stored 'knn_train_score' (float64)\n"
     ]
    }
   ],
   "source": [
    "#Storing the value of test score which can be used later\n",
    "%store knn_train_score"
   ]
  },
  {
   "cell_type": "code",
   "execution_count": null,
   "id": "665a0466",
   "metadata": {},
   "outputs": [],
   "source": [
    "# Conclusions\n",
    "1. The Test RMSE is 0.9111 when we took the value of k as 10\n",
    "\n",
    "2. We used Elbow method in order to determine the value of k \n",
    "\n",
    "3. On using Elbow method we found that at k = 10 the test RMSE is 0.9111 which is lesser than the RMSE at K=5 (0.9491)\n",
    "\n",
    "4. The train score is 23.5338\n",
    "\n",
    "5. The test score is -15.1667 which is not pereferd"
   ]
  },
  {
   "cell_type": "code",
   "execution_count": 107,
   "id": "ce601673",
   "metadata": {},
   "outputs": [],
   "source": [
    "custom_d=sample_data"
   ]
  },
  {
   "cell_type": "code",
   "execution_count": 45,
   "id": "7ccc4631",
   "metadata": {},
   "outputs": [
    {
     "data": {
      "text/plain": [
       "id                     object\n",
       "vendor_id               int64\n",
       "pickup_datetime        object\n",
       "dropoff_datetime       object\n",
       "passenger_count         int64\n",
       "pickup_longitude      float64\n",
       "pickup_latitude       float64\n",
       "dropoff_longitude     float64\n",
       "dropoff_latitude      float64\n",
       "store_and_fwd_flag     object\n",
       "trip_duration_hour    float64\n",
       "dtype: object"
      ]
     },
     "execution_count": 45,
     "metadata": {},
     "output_type": "execute_result"
    }
   ],
   "source": [
    "sample_data.dtypes"
   ]
  },
  {
   "cell_type": "code",
   "execution_count": 47,
   "id": "06939b15",
   "metadata": {},
   "outputs": [],
   "source": [
    "#Seperate features and target\n",
    "features = sample_data.drop([\"id\",\"vendor_id\",\"trip_duration_hour\",\"pickup_datetime\",\"dropoff_datetime\"],axis = 1)\n",
    "target = sample_data[\"trip_duration_hour\"]"
   ]
  },
  {
   "cell_type": "code",
   "execution_count": 48,
   "id": "7f192127",
   "metadata": {},
   "outputs": [
    {
     "data": {
      "text/html": [
       "<div>\n",
       "<style scoped>\n",
       "    .dataframe tbody tr th:only-of-type {\n",
       "        vertical-align: middle;\n",
       "    }\n",
       "\n",
       "    .dataframe tbody tr th {\n",
       "        vertical-align: top;\n",
       "    }\n",
       "\n",
       "    .dataframe thead th {\n",
       "        text-align: right;\n",
       "    }\n",
       "</style>\n",
       "<table border=\"1\" class=\"dataframe\">\n",
       "  <thead>\n",
       "    <tr style=\"text-align: right;\">\n",
       "      <th></th>\n",
       "      <th>pickup_longitude</th>\n",
       "      <th>pickup_latitude</th>\n",
       "      <th>dropoff_longitude</th>\n",
       "      <th>dropoff_latitude</th>\n",
       "      <th>passenger_count_1</th>\n",
       "      <th>passenger_count_2</th>\n",
       "      <th>passenger_count_3</th>\n",
       "      <th>passenger_count_4</th>\n",
       "      <th>passenger_count_5</th>\n",
       "      <th>passenger_count_6</th>\n",
       "    </tr>\n",
       "  </thead>\n",
       "  <tbody>\n",
       "    <tr>\n",
       "      <th>70003</th>\n",
       "      <td>-73.870544</td>\n",
       "      <td>40.733887</td>\n",
       "      <td>-73.921608</td>\n",
       "      <td>40.737782</td>\n",
       "      <td>0</td>\n",
       "      <td>0</td>\n",
       "      <td>1</td>\n",
       "      <td>0</td>\n",
       "      <td>0</td>\n",
       "      <td>0</td>\n",
       "    </tr>\n",
       "    <tr>\n",
       "      <th>37554</th>\n",
       "      <td>-73.966125</td>\n",
       "      <td>40.758549</td>\n",
       "      <td>-73.978600</td>\n",
       "      <td>40.754837</td>\n",
       "      <td>0</td>\n",
       "      <td>1</td>\n",
       "      <td>0</td>\n",
       "      <td>0</td>\n",
       "      <td>0</td>\n",
       "      <td>0</td>\n",
       "    </tr>\n",
       "    <tr>\n",
       "      <th>406110</th>\n",
       "      <td>-73.994759</td>\n",
       "      <td>40.721264</td>\n",
       "      <td>-73.967972</td>\n",
       "      <td>40.793957</td>\n",
       "      <td>0</td>\n",
       "      <td>0</td>\n",
       "      <td>0</td>\n",
       "      <td>0</td>\n",
       "      <td>1</td>\n",
       "      <td>0</td>\n",
       "    </tr>\n",
       "    <tr>\n",
       "      <th>727682</th>\n",
       "      <td>-73.975861</td>\n",
       "      <td>40.754253</td>\n",
       "      <td>-73.979607</td>\n",
       "      <td>40.766972</td>\n",
       "      <td>0</td>\n",
       "      <td>1</td>\n",
       "      <td>0</td>\n",
       "      <td>0</td>\n",
       "      <td>0</td>\n",
       "      <td>0</td>\n",
       "    </tr>\n",
       "    <tr>\n",
       "      <th>342920</th>\n",
       "      <td>-73.982788</td>\n",
       "      <td>40.751450</td>\n",
       "      <td>-73.952263</td>\n",
       "      <td>40.771221</td>\n",
       "      <td>0</td>\n",
       "      <td>1</td>\n",
       "      <td>0</td>\n",
       "      <td>0</td>\n",
       "      <td>0</td>\n",
       "      <td>0</td>\n",
       "    </tr>\n",
       "  </tbody>\n",
       "</table>\n",
       "</div>"
      ],
      "text/plain": [
       "        pickup_longitude  pickup_latitude  dropoff_longitude  \\\n",
       "70003         -73.870544        40.733887         -73.921608   \n",
       "37554         -73.966125        40.758549         -73.978600   \n",
       "406110        -73.994759        40.721264         -73.967972   \n",
       "727682        -73.975861        40.754253         -73.979607   \n",
       "342920        -73.982788        40.751450         -73.952263   \n",
       "\n",
       "        dropoff_latitude  passenger_count_1  passenger_count_2  \\\n",
       "70003          40.737782                  0                  0   \n",
       "37554          40.754837                  0                  1   \n",
       "406110         40.793957                  0                  0   \n",
       "727682         40.766972                  0                  1   \n",
       "342920         40.771221                  0                  1   \n",
       "\n",
       "        passenger_count_3  passenger_count_4  passenger_count_5  \\\n",
       "70003                   1                  0                  0   \n",
       "37554                   0                  0                  0   \n",
       "406110                  0                  0                  1   \n",
       "727682                  0                  0                  0   \n",
       "342920                  0                  0                  0   \n",
       "\n",
       "        passenger_count_6  \n",
       "70003                   0  \n",
       "37554                   0  \n",
       "406110                  0  \n",
       "727682                  0  \n",
       "342920                  0  "
      ]
     },
     "execution_count": 48,
     "metadata": {},
     "output_type": "execute_result"
    }
   ],
   "source": [
    "df1 = pd.concat([sample_data, pd.get_dummies(sample_data[['passenger_count']].astype('str'))], axis=1)\n",
    "try:\n",
    "    df1.drop(['id','vendor_id','trip_duration_hour','pickup_datetime','dropoff_datetime','store_and_fwd_flag','passenger_count'], axis=1, inplace=True)\n",
    "except KeyError:\n",
    "    pass\n",
    "\n",
    "df1.head()"
   ]
  },
  {
   "cell_type": "code",
   "execution_count": 49,
   "id": "ad7372ce",
   "metadata": {},
   "outputs": [
    {
     "data": {
      "text/plain": [
       "(100000, 10)"
      ]
     },
     "execution_count": 49,
     "metadata": {},
     "output_type": "execute_result"
    }
   ],
   "source": [
    "df1.shape"
   ]
  },
  {
   "cell_type": "code",
   "execution_count": 51,
   "id": "6a00bc82",
   "metadata": {},
   "outputs": [
    {
     "data": {
      "text/plain": [
       "((100000, 10), (100000,))"
      ]
     },
     "execution_count": 51,
     "metadata": {},
     "output_type": "execute_result"
    }
   ],
   "source": [
    "#Seperate features and target\n",
    "x = df1\n",
    "y = sample_data[\"trip_duration_hour\"]\n",
    "x.shape,y.shape"
   ]
  },
  {
   "cell_type": "code",
   "execution_count": 52,
   "id": "3cb39786",
   "metadata": {},
   "outputs": [],
   "source": [
    "from sklearn.model_selection import train_test_split\n",
    "train_x,test_x,train_y,test_y = train_test_split(x,y,random_state=56)"
   ]
  },
  {
   "cell_type": "code",
   "execution_count": null,
   "id": "931631d8",
   "metadata": {},
   "outputs": [],
   "source": [
    "Linear Regression model"
   ]
  },
  {
   "cell_type": "code",
   "execution_count": 53,
   "id": "83a69ece",
   "metadata": {},
   "outputs": [],
   "source": [
    "from sklearn.linear_model import LinearRegression as LR\n",
    "from sklearn.metrics import mean_squared_error as mse"
   ]
  },
  {
   "cell_type": "code",
   "execution_count": 54,
   "id": "d2f68873",
   "metadata": {},
   "outputs": [
    {
     "data": {
      "text/html": [
       "<style>#sk-container-id-1 {color: black;background-color: white;}#sk-container-id-1 pre{padding: 0;}#sk-container-id-1 div.sk-toggleable {background-color: white;}#sk-container-id-1 label.sk-toggleable__label {cursor: pointer;display: block;width: 100%;margin-bottom: 0;padding: 0.3em;box-sizing: border-box;text-align: center;}#sk-container-id-1 label.sk-toggleable__label-arrow:before {content: \"▸\";float: left;margin-right: 0.25em;color: #696969;}#sk-container-id-1 label.sk-toggleable__label-arrow:hover:before {color: black;}#sk-container-id-1 div.sk-estimator:hover label.sk-toggleable__label-arrow:before {color: black;}#sk-container-id-1 div.sk-toggleable__content {max-height: 0;max-width: 0;overflow: hidden;text-align: left;background-color: #f0f8ff;}#sk-container-id-1 div.sk-toggleable__content pre {margin: 0.2em;color: black;border-radius: 0.25em;background-color: #f0f8ff;}#sk-container-id-1 input.sk-toggleable__control:checked~div.sk-toggleable__content {max-height: 200px;max-width: 100%;overflow: auto;}#sk-container-id-1 input.sk-toggleable__control:checked~label.sk-toggleable__label-arrow:before {content: \"▾\";}#sk-container-id-1 div.sk-estimator input.sk-toggleable__control:checked~label.sk-toggleable__label {background-color: #d4ebff;}#sk-container-id-1 div.sk-label input.sk-toggleable__control:checked~label.sk-toggleable__label {background-color: #d4ebff;}#sk-container-id-1 input.sk-hidden--visually {border: 0;clip: rect(1px 1px 1px 1px);clip: rect(1px, 1px, 1px, 1px);height: 1px;margin: -1px;overflow: hidden;padding: 0;position: absolute;width: 1px;}#sk-container-id-1 div.sk-estimator {font-family: monospace;background-color: #f0f8ff;border: 1px dotted black;border-radius: 0.25em;box-sizing: border-box;margin-bottom: 0.5em;}#sk-container-id-1 div.sk-estimator:hover {background-color: #d4ebff;}#sk-container-id-1 div.sk-parallel-item::after {content: \"\";width: 100%;border-bottom: 1px solid gray;flex-grow: 1;}#sk-container-id-1 div.sk-label:hover label.sk-toggleable__label {background-color: #d4ebff;}#sk-container-id-1 div.sk-serial::before {content: \"\";position: absolute;border-left: 1px solid gray;box-sizing: border-box;top: 0;bottom: 0;left: 50%;z-index: 0;}#sk-container-id-1 div.sk-serial {display: flex;flex-direction: column;align-items: center;background-color: white;padding-right: 0.2em;padding-left: 0.2em;position: relative;}#sk-container-id-1 div.sk-item {position: relative;z-index: 1;}#sk-container-id-1 div.sk-parallel {display: flex;align-items: stretch;justify-content: center;background-color: white;position: relative;}#sk-container-id-1 div.sk-item::before, #sk-container-id-1 div.sk-parallel-item::before {content: \"\";position: absolute;border-left: 1px solid gray;box-sizing: border-box;top: 0;bottom: 0;left: 50%;z-index: -1;}#sk-container-id-1 div.sk-parallel-item {display: flex;flex-direction: column;z-index: 1;position: relative;background-color: white;}#sk-container-id-1 div.sk-parallel-item:first-child::after {align-self: flex-end;width: 50%;}#sk-container-id-1 div.sk-parallel-item:last-child::after {align-self: flex-start;width: 50%;}#sk-container-id-1 div.sk-parallel-item:only-child::after {width: 0;}#sk-container-id-1 div.sk-dashed-wrapped {border: 1px dashed gray;margin: 0 0.4em 0.5em 0.4em;box-sizing: border-box;padding-bottom: 0.4em;background-color: white;}#sk-container-id-1 div.sk-label label {font-family: monospace;font-weight: bold;display: inline-block;line-height: 1.2em;}#sk-container-id-1 div.sk-label-container {text-align: center;}#sk-container-id-1 div.sk-container {/* jupyter's `normalize.less` sets `[hidden] { display: none; }` but bootstrap.min.css set `[hidden] { display: none !important; }` so we also need the `!important` here to be able to override the default hidden behavior on the sphinx rendered scikit-learn.org. See: https://github.com/scikit-learn/scikit-learn/issues/21755 */display: inline-block !important;position: relative;}#sk-container-id-1 div.sk-text-repr-fallback {display: none;}</style><div id=\"sk-container-id-1\" class=\"sk-top-container\"><div class=\"sk-text-repr-fallback\"><pre>LinearRegression()</pre><b>In a Jupyter environment, please rerun this cell to show the HTML representation or trust the notebook. <br />On GitHub, the HTML representation is unable to render, please try loading this page with nbviewer.org.</b></div><div class=\"sk-container\" hidden><div class=\"sk-item\"><div class=\"sk-estimator sk-toggleable\"><input class=\"sk-toggleable__control sk-hidden--visually\" id=\"sk-estimator-id-1\" type=\"checkbox\" checked><label for=\"sk-estimator-id-1\" class=\"sk-toggleable__label sk-toggleable__label-arrow\">LinearRegression</label><div class=\"sk-toggleable__content\"><pre>LinearRegression()</pre></div></div></div></div></div>"
      ],
      "text/plain": [
       "LinearRegression()"
      ]
     },
     "execution_count": 54,
     "metadata": {},
     "output_type": "execute_result"
    }
   ],
   "source": [
    "#Creating an instance of LR\n",
    "lr = LR()\n",
    "#Fitting the model\n",
    "lr.fit(train_x,train_y)"
   ]
  },
  {
   "cell_type": "code",
   "execution_count": 56,
   "id": "2ae906a8",
   "metadata": {},
   "outputs": [
    {
     "name": "stdout",
     "output_type": "stream",
     "text": [
      "Train rmse  0.8201563970859729\n"
     ]
    }
   ],
   "source": [
    "#Predicting the train values and finding the train RMSE\n",
    "train_predict = lr.predict(train_x)\n",
    "k = sqrt(mse(train_predict,train_y))\n",
    "print(\"Train rmse \",k)"
   ]
  },
  {
   "cell_type": "code",
   "execution_count": 58,
   "id": "38db0f53",
   "metadata": {},
   "outputs": [
    {
     "name": "stdout",
     "output_type": "stream",
     "text": [
      "Test rmse  0.8805221215560315\n"
     ]
    }
   ],
   "source": [
    "#Predicting the test values and finding the test RMSE\n",
    "test_predict = lr.predict(test_x)\n",
    "k = sqrt(mse(test_predict,test_y))\n",
    "print(\"Test rmse \",k)"
   ]
  },
  {
   "cell_type": "code",
   "execution_count": 59,
   "id": "c8c88689",
   "metadata": {},
   "outputs": [
    {
     "data": {
      "text/plain": [
       "array([ 1.26309882e+00, -1.04103566e+00,  9.07529217e-01, -9.20905949e-01,\n",
       "        7.90806833e+11,  7.90806833e+11,  7.90806833e+11,  7.90806833e+11,\n",
       "        7.90806833e+11,  7.90806833e+11])"
      ]
     },
     "execution_count": 59,
     "metadata": {},
     "output_type": "execute_result"
    }
   ],
   "source": [
    "#Computing the coefficients for above model\n",
    "lr.coef_"
   ]
  },
  {
   "cell_type": "code",
   "execution_count": null,
   "id": "d1714e48",
   "metadata": {},
   "outputs": [],
   "source": [
    "# Plotting the coefficients"
   ]
  },
  {
   "cell_type": "code",
   "execution_count": 69,
   "id": "04c2e9e0",
   "metadata": {},
   "outputs": [
    {
     "data": {
      "text/plain": [
       "Text(0.5, 1.0, 'Coefficient Plot')"
      ]
     },
     "execution_count": 69,
     "metadata": {},
     "output_type": "execute_result"
    },
    {
     "data": {
      "image/png": "[encoded data removed]",
      "text/plain": [
       "<Figure size 800x800 with 1 Axes>"
      ]
     },
     "metadata": {},
     "output_type": "display_data"
    }
   ],
   "source": [
    "plt.figure(figsize=(10,10),dpi=80,facecolor=\"w\")\n",
    "x = range(len(train_x.columns))\n",
    "y = lr.coef_\n",
    "plt.bar(x,y)\n",
    "plt.xlabel(\"Variables\")\n",
    "plt.ylabel(\"Coefficents\")\n",
    "plt.title(\"Coefficient Plot\")"
   ]
  },
  {
   "cell_type": "code",
   "execution_count": 70,
   "id": "8e85ab2a",
   "metadata": {},
   "outputs": [],
   "source": [
    "#Here we can see that the model is dependent upon some Independent variables too much so these coefficients are not suitable for interpretation as they are not scaled."
   ]
  },
  {
   "cell_type": "code",
   "execution_count": 71,
   "id": "d75460a9",
   "metadata": {},
   "outputs": [
    {
     "data": {
      "text/html": [
       "<div>\n",
       "<style scoped>\n",
       "    .dataframe tbody tr th:only-of-type {\n",
       "        vertical-align: middle;\n",
       "    }\n",
       "\n",
       "    .dataframe tbody tr th {\n",
       "        vertical-align: top;\n",
       "    }\n",
       "\n",
       "    .dataframe thead th {\n",
       "        text-align: right;\n",
       "    }\n",
       "</style>\n",
       "<table border=\"1\" class=\"dataframe\">\n",
       "  <thead>\n",
       "    <tr style=\"text-align: right;\">\n",
       "      <th></th>\n",
       "      <th>fitted_values</th>\n",
       "      <th>predicted_values</th>\n",
       "      <th>residuals</th>\n",
       "    </tr>\n",
       "  </thead>\n",
       "  <tbody>\n",
       "    <tr>\n",
       "      <th>549944</th>\n",
       "      <td>0.163333</td>\n",
       "      <td>0.263672</td>\n",
       "      <td>-0.100339</td>\n",
       "    </tr>\n",
       "    <tr>\n",
       "      <th>197434</th>\n",
       "      <td>0.225556</td>\n",
       "      <td>0.233521</td>\n",
       "      <td>-0.007965</td>\n",
       "    </tr>\n",
       "    <tr>\n",
       "      <th>544340</th>\n",
       "      <td>0.097222</td>\n",
       "      <td>0.244263</td>\n",
       "      <td>-0.147040</td>\n",
       "    </tr>\n",
       "    <tr>\n",
       "      <th>371703</th>\n",
       "      <td>0.068889</td>\n",
       "      <td>0.161377</td>\n",
       "      <td>-0.092488</td>\n",
       "    </tr>\n",
       "    <tr>\n",
       "      <th>576121</th>\n",
       "      <td>0.183056</td>\n",
       "      <td>0.194946</td>\n",
       "      <td>-0.011891</td>\n",
       "    </tr>\n",
       "  </tbody>\n",
       "</table>\n",
       "</div>"
      ],
      "text/plain": [
       "        fitted_values  predicted_values  residuals\n",
       "549944       0.163333          0.263672  -0.100339\n",
       "197434       0.225556          0.233521  -0.007965\n",
       "544340       0.097222          0.244263  -0.147040\n",
       "371703       0.068889          0.161377  -0.092488\n",
       "576121       0.183056          0.194946  -0.011891"
      ]
     },
     "execution_count": 71,
     "metadata": {},
     "output_type": "execute_result"
    }
   ],
   "source": [
    "#Calculating the residuals \n",
    "residuals = pd.DataFrame({\n",
    "    \"fitted_values\":test_y,\n",
    "    \"predicted_values\":test_predict\n",
    "})\n",
    "residuals[\"residuals\"]=residuals[\"fitted_values\"]-residuals[\"predicted_values\"]\n",
    "residuals.head()"
   ]
  },
  {
   "cell_type": "code",
   "execution_count": 77,
   "id": "a3248712",
   "metadata": {},
   "outputs": [
    {
     "data": {
      "image/png": "[encoded data removed]",
      "text/plain": [
       "<Figure size 800x800 with 1 Axes>"
      ]
     },
     "metadata": {},
     "output_type": "display_data"
    }
   ],
   "source": [
    "plt.figure(figsize=(10,10),dpi=80,facecolor=\"w\",edgecolor=\"b\")\n",
    "plt.hist(residuals.residuals,bins=80)\n",
    "plt.xlabel(\"Error\")\n",
    "plt.ylabel(\"Frequency\")\n",
    "plt.title(\"Distribution Of Error Terms\")\n",
    "plt.show()"
   ]
  },
  {
   "cell_type": "code",
   "execution_count": 78,
   "id": "93375adb",
   "metadata": {},
   "outputs": [
    {
     "data": {
      "image/png": "[encoded data removed]",
      "text/plain": [
       "<Figure size 600x600 with 1 Axes>"
      ]
     },
     "metadata": {},
     "output_type": "display_data"
    }
   ],
   "source": [
    "# Importing the QQ-plot from the statsmodels.\n",
    "from statsmodels.graphics.gofplots import qqplot\n",
    "\n",
    "# Plotting the QQ plot.\n",
    "fig, ax = plt.subplots(figsize=(5,5) , dpi = 120)\n",
    "qqplot(residuals.residuals, line = 's' , ax = ax)\n",
    "plt.xlabel('Ideal Scaled Quantiles')\n",
    "plt.ylabel('Residual Quantiles')\n",
    "plt.legend([\"Residual Quantiles\",\"Ideal Scaled Quantiles\"])\n",
    "plt.title('Distribution of Residual Errors')\n",
    "plt.show()"
   ]
  },
  {
   "cell_type": "code",
   "execution_count": 79,
   "id": "5928890c",
   "metadata": {},
   "outputs": [
    {
     "data": {
      "text/plain": [
       "1.0163708888708989"
      ]
     },
     "execution_count": 79,
     "metadata": {},
     "output_type": "execute_result"
    }
   ],
   "source": [
    "#Calculating the train score \n",
    "linear_train_score = lr.score(train_x,train_y)\n",
    "linear_train_score*100"
   ]
  },
  {
   "cell_type": "code",
   "execution_count": 80,
   "id": "95de4563",
   "metadata": {},
   "outputs": [
    {
     "data": {
      "text/plain": [
       "0.8832938698874027"
      ]
     },
     "execution_count": 80,
     "metadata": {},
     "output_type": "execute_result"
    }
   ],
   "source": [
    "#calculating the test score\n",
    "linear_test_score = lr.score(test_x,test_y)\n",
    "linear_test_score*100"
   ]
  },
  {
   "cell_type": "code",
   "execution_count": 83,
   "id": "418acd36",
   "metadata": {},
   "outputs": [
    {
     "name": "stdout",
     "output_type": "stream",
     "text": [
      "Stored 'linear_test_score' (float64)\n"
     ]
    }
   ],
   "source": [
    "#storing the value of test score which can be used later.\n",
    "%store linear_test_score"
   ]
  },
  {
   "cell_type": "code",
   "execution_count": 84,
   "id": "668c09c1",
   "metadata": {},
   "outputs": [
    {
     "name": "stdout",
     "output_type": "stream",
     "text": [
      "Stored 'linear_train_score' (float64)\n"
     ]
    }
   ],
   "source": [
    "#storing the value of train score which can be used later.\n",
    "%store linear_train_score"
   ]
  },
  {
   "cell_type": "code",
   "execution_count": null,
   "id": "2877ccc2",
   "metadata": {},
   "outputs": [],
   "source": [
    "# Conclusions\n",
    "1. The train and test RMSE has a huge difference as the train rmse is 0.82015 and testing rmse is 0.88052. \n",
    "\n",
    "2. On computing the coefficients we observed that there are some negative values as well.\n",
    "\n",
    "3. On plotting the qqplot we see that the residual quantile line doesn't fit over all ideal scaled quantiles.\n",
    "\n",
    "4. The train score of linear model is 1.01637.\n",
    "\n",
    "5. The test score of linear model is 0.88329."
   ]
  },
  {
   "cell_type": "code",
   "execution_count": null,
   "id": "92b48da3",
   "metadata": {},
   "outputs": [],
   "source": []
  },
  {
   "cell_type": "code",
   "execution_count": 85,
   "id": "9baba47f",
   "metadata": {},
   "outputs": [
    {
     "data": {
      "text/plain": [
       "(11,)"
      ]
     },
     "execution_count": 85,
     "metadata": {},
     "output_type": "execute_result"
    }
   ],
   "source": [
    "sample_data.dtypes.shape"
   ]
  },
  {
   "cell_type": "code",
   "execution_count": 86,
   "id": "6776b0a7",
   "metadata": {},
   "outputs": [
    {
     "data": {
      "text/html": [
       "<div>\n",
       "<style scoped>\n",
       "    .dataframe tbody tr th:only-of-type {\n",
       "        vertical-align: middle;\n",
       "    }\n",
       "\n",
       "    .dataframe tbody tr th {\n",
       "        vertical-align: top;\n",
       "    }\n",
       "\n",
       "    .dataframe thead th {\n",
       "        text-align: right;\n",
       "    }\n",
       "</style>\n",
       "<table border=\"1\" class=\"dataframe\">\n",
       "  <thead>\n",
       "    <tr style=\"text-align: right;\">\n",
       "      <th></th>\n",
       "      <th>pickup_longitude</th>\n",
       "      <th>pickup_latitude</th>\n",
       "      <th>dropoff_longitude</th>\n",
       "      <th>dropoff_latitude</th>\n",
       "      <th>trip_duration_hour</th>\n",
       "      <th>passenger_count_1</th>\n",
       "      <th>passenger_count_2</th>\n",
       "      <th>passenger_count_3</th>\n",
       "      <th>passenger_count_4</th>\n",
       "      <th>passenger_count_5</th>\n",
       "      <th>passenger_count_6</th>\n",
       "    </tr>\n",
       "  </thead>\n",
       "  <tbody>\n",
       "    <tr>\n",
       "      <th>70003</th>\n",
       "      <td>-73.870544</td>\n",
       "      <td>40.733887</td>\n",
       "      <td>-73.921608</td>\n",
       "      <td>40.737782</td>\n",
       "      <td>0.233889</td>\n",
       "      <td>0</td>\n",
       "      <td>0</td>\n",
       "      <td>1</td>\n",
       "      <td>0</td>\n",
       "      <td>0</td>\n",
       "      <td>0</td>\n",
       "    </tr>\n",
       "    <tr>\n",
       "      <th>37554</th>\n",
       "      <td>-73.966125</td>\n",
       "      <td>40.758549</td>\n",
       "      <td>-73.978600</td>\n",
       "      <td>40.754837</td>\n",
       "      <td>0.253889</td>\n",
       "      <td>0</td>\n",
       "      <td>1</td>\n",
       "      <td>0</td>\n",
       "      <td>0</td>\n",
       "      <td>0</td>\n",
       "      <td>0</td>\n",
       "    </tr>\n",
       "    <tr>\n",
       "      <th>406110</th>\n",
       "      <td>-73.994759</td>\n",
       "      <td>40.721264</td>\n",
       "      <td>-73.967972</td>\n",
       "      <td>40.793957</td>\n",
       "      <td>0.524722</td>\n",
       "      <td>0</td>\n",
       "      <td>0</td>\n",
       "      <td>0</td>\n",
       "      <td>0</td>\n",
       "      <td>1</td>\n",
       "      <td>0</td>\n",
       "    </tr>\n",
       "    <tr>\n",
       "      <th>727682</th>\n",
       "      <td>-73.975861</td>\n",
       "      <td>40.754253</td>\n",
       "      <td>-73.979607</td>\n",
       "      <td>40.766972</td>\n",
       "      <td>0.116389</td>\n",
       "      <td>0</td>\n",
       "      <td>1</td>\n",
       "      <td>0</td>\n",
       "      <td>0</td>\n",
       "      <td>0</td>\n",
       "      <td>0</td>\n",
       "    </tr>\n",
       "    <tr>\n",
       "      <th>342920</th>\n",
       "      <td>-73.982788</td>\n",
       "      <td>40.751450</td>\n",
       "      <td>-73.952263</td>\n",
       "      <td>40.771221</td>\n",
       "      <td>0.179444</td>\n",
       "      <td>0</td>\n",
       "      <td>1</td>\n",
       "      <td>0</td>\n",
       "      <td>0</td>\n",
       "      <td>0</td>\n",
       "      <td>0</td>\n",
       "    </tr>\n",
       "  </tbody>\n",
       "</table>\n",
       "</div>"
      ],
      "text/plain": [
       "        pickup_longitude  pickup_latitude  dropoff_longitude  \\\n",
       "70003         -73.870544        40.733887         -73.921608   \n",
       "37554         -73.966125        40.758549         -73.978600   \n",
       "406110        -73.994759        40.721264         -73.967972   \n",
       "727682        -73.975861        40.754253         -73.979607   \n",
       "342920        -73.982788        40.751450         -73.952263   \n",
       "\n",
       "        dropoff_latitude  trip_duration_hour  passenger_count_1  \\\n",
       "70003          40.737782            0.233889                  0   \n",
       "37554          40.754837            0.253889                  0   \n",
       "406110         40.793957            0.524722                  0   \n",
       "727682         40.766972            0.116389                  0   \n",
       "342920         40.771221            0.179444                  0   \n",
       "\n",
       "        passenger_count_2  passenger_count_3  passenger_count_4  \\\n",
       "70003                   0                  1                  0   \n",
       "37554                   1                  0                  0   \n",
       "406110                  0                  0                  0   \n",
       "727682                  1                  0                  0   \n",
       "342920                  1                  0                  0   \n",
       "\n",
       "        passenger_count_5  passenger_count_6  \n",
       "70003                   0                  0  \n",
       "37554                   0                  0  \n",
       "406110                  1                  0  \n",
       "727682                  0                  0  \n",
       "342920                  0                  0  "
      ]
     },
     "execution_count": 86,
     "metadata": {},
     "output_type": "execute_result"
    }
   ],
   "source": [
    "df1 = pd.concat([sample_data, pd.get_dummies(sample_data[['passenger_count']].astype('str'))], axis=1)\n",
    "try:\n",
    "    df1.drop(['id','vendor_id','pickup_datetime','dropoff_datetime','store_and_fwd_flag','passenger_count'], axis=1, inplace=True)\n",
    "except KeyError:\n",
    "    pass\n",
    "\n",
    "df1.head()"
   ]
  },
  {
   "cell_type": "code",
   "execution_count": 87,
   "id": "aebeadb7",
   "metadata": {},
   "outputs": [],
   "source": [
    "x = df1.drop([\"trip_duration_hour\"],axis = 1)\n",
    "y = df1[\"trip_duration_hour\"]"
   ]
  },
  {
   "cell_type": "code",
   "execution_count": 89,
   "id": "1fd9211d",
   "metadata": {},
   "outputs": [],
   "source": [
    "from sklearn.model_selection import train_test_split\n",
    "train_x,test_x,train_y,test_y = train_test_split(x,y,random_state=56)"
   ]
  },
  {
   "cell_type": "code",
   "execution_count": null,
   "id": "36d9145c",
   "metadata": {},
   "outputs": [],
   "source": [
    "#Decision Tree model"
   ]
  },
  {
   "cell_type": "code",
   "execution_count": 90,
   "id": "a276237e",
   "metadata": {},
   "outputs": [
    {
     "data": {
      "text/html": [
       "<style>#sk-container-id-2 {color: black;background-color: white;}#sk-container-id-2 pre{padding: 0;}#sk-container-id-2 div.sk-toggleable {background-color: white;}#sk-container-id-2 label.sk-toggleable__label {cursor: pointer;display: block;width: 100%;margin-bottom: 0;padding: 0.3em;box-sizing: border-box;text-align: center;}#sk-container-id-2 label.sk-toggleable__label-arrow:before {content: \"▸\";float: left;margin-right: 0.25em;color: #696969;}#sk-container-id-2 label.sk-toggleable__label-arrow:hover:before {color: black;}#sk-container-id-2 div.sk-estimator:hover label.sk-toggleable__label-arrow:before {color: black;}#sk-container-id-2 div.sk-toggleable__content {max-height: 0;max-width: 0;overflow: hidden;text-align: left;background-color: #f0f8ff;}#sk-container-id-2 div.sk-toggleable__content pre {margin: 0.2em;color: black;border-radius: 0.25em;background-color: #f0f8ff;}#sk-container-id-2 input.sk-toggleable__control:checked~div.sk-toggleable__content {max-height: 200px;max-width: 100%;overflow: auto;}#sk-container-id-2 input.sk-toggleable__control:checked~label.sk-toggleable__label-arrow:before {content: \"▾\";}#sk-container-id-2 div.sk-estimator input.sk-toggleable__control:checked~label.sk-toggleable__label {background-color: #d4ebff;}#sk-container-id-2 div.sk-label input.sk-toggleable__control:checked~label.sk-toggleable__label {background-color: #d4ebff;}#sk-container-id-2 input.sk-hidden--visually {border: 0;clip: rect(1px 1px 1px 1px);clip: rect(1px, 1px, 1px, 1px);height: 1px;margin: -1px;overflow: hidden;padding: 0;position: absolute;width: 1px;}#sk-container-id-2 div.sk-estimator {font-family: monospace;background-color: #f0f8ff;border: 1px dotted black;border-radius: 0.25em;box-sizing: border-box;margin-bottom: 0.5em;}#sk-container-id-2 div.sk-estimator:hover {background-color: #d4ebff;}#sk-container-id-2 div.sk-parallel-item::after {content: \"\";width: 100%;border-bottom: 1px solid gray;flex-grow: 1;}#sk-container-id-2 div.sk-label:hover label.sk-toggleable__label {background-color: #d4ebff;}#sk-container-id-2 div.sk-serial::before {content: \"\";position: absolute;border-left: 1px solid gray;box-sizing: border-box;top: 0;bottom: 0;left: 50%;z-index: 0;}#sk-container-id-2 div.sk-serial {display: flex;flex-direction: column;align-items: center;background-color: white;padding-right: 0.2em;padding-left: 0.2em;position: relative;}#sk-container-id-2 div.sk-item {position: relative;z-index: 1;}#sk-container-id-2 div.sk-parallel {display: flex;align-items: stretch;justify-content: center;background-color: white;position: relative;}#sk-container-id-2 div.sk-item::before, #sk-container-id-2 div.sk-parallel-item::before {content: \"\";position: absolute;border-left: 1px solid gray;box-sizing: border-box;top: 0;bottom: 0;left: 50%;z-index: -1;}#sk-container-id-2 div.sk-parallel-item {display: flex;flex-direction: column;z-index: 1;position: relative;background-color: white;}#sk-container-id-2 div.sk-parallel-item:first-child::after {align-self: flex-end;width: 50%;}#sk-container-id-2 div.sk-parallel-item:last-child::after {align-self: flex-start;width: 50%;}#sk-container-id-2 div.sk-parallel-item:only-child::after {width: 0;}#sk-container-id-2 div.sk-dashed-wrapped {border: 1px dashed gray;margin: 0 0.4em 0.5em 0.4em;box-sizing: border-box;padding-bottom: 0.4em;background-color: white;}#sk-container-id-2 div.sk-label label {font-family: monospace;font-weight: bold;display: inline-block;line-height: 1.2em;}#sk-container-id-2 div.sk-label-container {text-align: center;}#sk-container-id-2 div.sk-container {/* jupyter's `normalize.less` sets `[hidden] { display: none; }` but bootstrap.min.css set `[hidden] { display: none !important; }` so we also need the `!important` here to be able to override the default hidden behavior on the sphinx rendered scikit-learn.org. See: https://github.com/scikit-learn/scikit-learn/issues/21755 */display: inline-block !important;position: relative;}#sk-container-id-2 div.sk-text-repr-fallback {display: none;}</style><div id=\"sk-container-id-2\" class=\"sk-top-container\"><div class=\"sk-text-repr-fallback\"><pre>DecisionTreeRegressor()</pre><b>In a Jupyter environment, please rerun this cell to show the HTML representation or trust the notebook. <br />On GitHub, the HTML representation is unable to render, please try loading this page with nbviewer.org.</b></div><div class=\"sk-container\" hidden><div class=\"sk-item\"><div class=\"sk-estimator sk-toggleable\"><input class=\"sk-toggleable__control sk-hidden--visually\" id=\"sk-estimator-id-2\" type=\"checkbox\" checked><label for=\"sk-estimator-id-2\" class=\"sk-toggleable__label sk-toggleable__label-arrow\">DecisionTreeRegressor</label><div class=\"sk-toggleable__content\"><pre>DecisionTreeRegressor()</pre></div></div></div></div></div>"
      ],
      "text/plain": [
       "DecisionTreeRegressor()"
      ]
     },
     "execution_count": 90,
     "metadata": {},
     "output_type": "execute_result"
    }
   ],
   "source": [
    "from sklearn.tree import DecisionTreeRegressor as DecisionTreeRegressor\n",
    "from sklearn.metrics import mean_squared_error as mse\n",
    "regressor = DecisionTreeRegressor()\n",
    "regressor.fit(x, y)"
   ]
  },
  {
   "cell_type": "code",
   "execution_count": 91,
   "id": "d5009079",
   "metadata": {},
   "outputs": [
    {
     "name": "stdout",
     "output_type": "stream",
     "text": [
      "training rmse  0.0005685032872854132\n"
     ]
    }
   ],
   "source": [
    "from math import sqrt\n",
    "train_predict = regressor.predict(train_x)\n",
    "k = sqrt(mse(train_predict,train_y))\n",
    "print(\"training rmse \",k)"
   ]
  },
  {
   "cell_type": "code",
   "execution_count": 92,
   "id": "9b9ef3e9",
   "metadata": {},
   "outputs": [
    {
     "name": "stdout",
     "output_type": "stream",
     "text": [
      "testing rmse  0.0012294288797528592\n"
     ]
    }
   ],
   "source": [
    "from math import sqrt\n",
    "test_predict = regressor.predict(test_x)\n",
    "k1 = sqrt(mse(test_predict,test_y))\n",
    "print(\"testing rmse \",k1)"
   ]
  },
  {
   "cell_type": "code",
   "execution_count": null,
   "id": "3740c879",
   "metadata": {},
   "outputs": [],
   "source": [
    "#Interpreting the variable importance."
   ]
  },
  {
   "cell_type": "code",
   "execution_count": 94,
   "id": "a15c05cc",
   "metadata": {},
   "outputs": [
    {
     "data": {
      "text/plain": [
       "Index(['pickup_longitude', 'pickup_latitude', 'dropoff_longitude',\n",
       "       'dropoff_latitude', 'passenger_count_1', 'passenger_count_2',\n",
       "       'passenger_count_3', 'passenger_count_4', 'passenger_count_5',\n",
       "       'passenger_count_6'],\n",
       "      dtype='object')"
      ]
     },
     "execution_count": 94,
     "metadata": {},
     "output_type": "execute_result"
    }
   ],
   "source": [
    "x.columns"
   ]
  },
  {
   "cell_type": "code",
   "execution_count": 95,
   "id": "3e8c3f54",
   "metadata": {},
   "outputs": [
    {
     "name": "stdout",
     "output_type": "stream",
     "text": [
      "Requirement already satisfied: xgboost in c:\\users\\mmaye\\anaconda3.x\\lib\\site-packages (1.7.5)\n",
      "Requirement already satisfied: numpy in c:\\users\\mmaye\\anaconda3.x\\lib\\site-packages (from xgboost) (1.23.5)\n",
      "Requirement already satisfied: scipy in c:\\users\\mmaye\\anaconda3.x\\lib\\site-packages (from xgboost) (1.10.0)\n",
      "Note: you may need to restart the kernel to use updated packages.\n"
     ]
    }
   ],
   "source": [
    "pip install xgboost"
   ]
  },
  {
   "cell_type": "code",
   "execution_count": 96,
   "id": "0d2649db",
   "metadata": {},
   "outputs": [
    {
     "data": {
      "image/png": "[encoded data removed]",
      "text/plain": [
       "<Figure size 640x480 with 1 Axes>"
      ]
     },
     "metadata": {},
     "output_type": "display_data"
    }
   ],
   "source": [
    "#Using XGBoost in order to interpret the variable importance\n",
    "from xgboost import XGBRegressor\n",
    "from xgboost import plot_importance\n",
    "import matplotlib.pyplot as plt\n",
    "model = XGBRegressor()\n",
    "model.fit(x,y)\n",
    "plot_importance(model)\n",
    "plt.show()"
   ]
  },
  {
   "cell_type": "code",
   "execution_count": null,
   "id": "61639a83",
   "metadata": {},
   "outputs": [],
   "source": [
    "#From the above graph we can infer that the varaible \"pickup_longitude\" has more impact on the trip duration variable followed by \"dropoff_longitude\" then \"dropoff_latitude\" and \"pickup_latitude\"."
   ]
  },
  {
   "cell_type": "code",
   "execution_count": 97,
   "id": "46185459",
   "metadata": {},
   "outputs": [
    {
     "data": {
      "text/plain": [
       "99.9999524406424"
      ]
     },
     "execution_count": 97,
     "metadata": {},
     "output_type": "execute_result"
    }
   ],
   "source": [
    "#calculating the train score of decision tree model\n",
    "decision_train_score = regressor.score(train_x,train_y)\n",
    "decision_train_score*100"
   ]
  },
  {
   "cell_type": "code",
   "execution_count": 98,
   "id": "73c6414b",
   "metadata": {},
   "outputs": [
    {
     "data": {
      "text/plain": [
       "99.9998067706292"
      ]
     },
     "execution_count": 98,
     "metadata": {},
     "output_type": "execute_result"
    }
   ],
   "source": [
    "#calculating the test score of decision tree model\n",
    "decision_test_score = regressor.score(test_x,test_y)\n",
    "decision_test_score*100"
   ]
  },
  {
   "cell_type": "code",
   "execution_count": 99,
   "id": "4c10a02e",
   "metadata": {},
   "outputs": [
    {
     "name": "stdout",
     "output_type": "stream",
     "text": [
      "Stored 'decision_test_score' (float64)\n"
     ]
    }
   ],
   "source": [
    "#storing the test score to use it in other file\n",
    "%store decision_test_score"
   ]
  },
  {
   "cell_type": "code",
   "execution_count": 100,
   "id": "c136db53",
   "metadata": {},
   "outputs": [
    {
     "name": "stdout",
     "output_type": "stream",
     "text": [
      "Stored 'decision_train_score' (float64)\n"
     ]
    }
   ],
   "source": [
    "#storing the train score to use it in other file\n",
    "%store decision_train_score"
   ]
  },
  {
   "cell_type": "code",
   "execution_count": null,
   "id": "f109de31",
   "metadata": {},
   "outputs": [],
   "source": [
    "Conclusion\n",
    "\n",
    "*The train score and test score is 99.99 so we can consider that decision tree is the best model for predicting the trip duration variable."
   ]
  },
  {
   "cell_type": "code",
   "execution_count": null,
   "id": "c7ab33ea",
   "metadata": {},
   "outputs": [],
   "source": [
    "Bar Plot"
   ]
  },
  {
   "cell_type": "code",
   "execution_count": 101,
   "id": "9fe65b78",
   "metadata": {},
   "outputs": [
    {
     "data": {
      "text/plain": [
       "(0.999999524406424, 0.010163708888708989, 0.2353389524192241)"
      ]
     },
     "execution_count": 101,
     "metadata": {},
     "output_type": "execute_result"
    }
   ],
   "source": [
    "decision_train_score,linear_train_score,knn_train_score"
   ]
  },
  {
   "cell_type": "code",
   "execution_count": 102,
   "id": "daecfd5e",
   "metadata": {},
   "outputs": [],
   "source": [
    "#assining the train score values in x,y\n",
    "x=[\"decision_train_score\",\"linear_train_score\",\"knn_train_score\"]\n",
    "y=[0.999999524406424, 0.010163708888708989, 0.2353389524192241]"
   ]
  },
  {
   "cell_type": "code",
   "execution_count": 103,
   "id": "c4f3f76c",
   "metadata": {},
   "outputs": [
    {
     "data": {
      "text/plain": [
       "(-0.151667590770876, 0.008832938698874027, 0.9999980677062921)"
      ]
     },
     "execution_count": 103,
     "metadata": {},
     "output_type": "execute_result"
    }
   ],
   "source": [
    "knn_test_score, linear_test_score,decision_test_score"
   ]
  },
  {
   "cell_type": "code",
   "execution_count": 104,
   "id": "1f2083e2",
   "metadata": {},
   "outputs": [
    {
     "data": {
      "image/png": "[encoded data removed]",
      "text/plain": [
       "<Figure size 640x480 with 1 Axes>"
      ]
     },
     "metadata": {},
     "output_type": "display_data"
    }
   ],
   "source": [
    "plt.figure(dpi=100)\n",
    "plt.bar(x,y)\n",
    "plt.xlabel(\"models\")\n",
    "plt.ylabel(\"train scores\")\n",
    "plt.show()"
   ]
  },
  {
   "cell_type": "code",
   "execution_count": 105,
   "id": "5c06d046",
   "metadata": {},
   "outputs": [],
   "source": [
    "#assining the test score value in x1,y1\n",
    "x1=[\"knn_test_score\",\"linear_test_score\",\"decision_test_score\"]\n",
    "y1=[-0.151667590770876, 0.008832938698874027, 0.9999980677062921]"
   ]
  },
  {
   "cell_type": "code",
   "execution_count": 106,
   "id": "3440857f",
   "metadata": {},
   "outputs": [
    {
     "data": {
      "image/png": "[encoded data removed]",
      "text/plain": [
       "<Figure size 640x480 with 1 Axes>"
      ]
     },
     "metadata": {},
     "output_type": "display_data"
    }
   ],
   "source": [
    "plt.figure(dpi=100)\n",
    "plt.bar(x1,y1)\n",
    "plt.xlabel(\"models\")\n",
    "plt.ylabel(\"train scores\")\n",
    "plt.show()"
   ]
  },
  {
   "cell_type": "code",
   "execution_count": null,
   "id": "67c966b9",
   "metadata": {},
   "outputs": [],
   "source": [
    "# From above graph we can conclude that the best model among KNN Liner Rigression(LR) and Decision Tree(DT) the best one is Decision Tree in train score"
   ]
  }
 ],
 "metadata": {
  "kernelspec": {
   "display_name": "Python 3 (ipykernel)",
   "language": "python",
   "name": "python3"
  },
  "language_info": {
   "codemirror_mode": {
    "name": "ipython",
    "version": 3
   },
   "file_extension": ".py",
   "mimetype": "text/x-python",
   "name": "python",
   "nbconvert_exporter": "python",
   "pygments_lexer": "ipython3",
   "version": "3.10.9"
  }
 },
 "nbformat": 4,
 "nbformat_minor": 5
}
